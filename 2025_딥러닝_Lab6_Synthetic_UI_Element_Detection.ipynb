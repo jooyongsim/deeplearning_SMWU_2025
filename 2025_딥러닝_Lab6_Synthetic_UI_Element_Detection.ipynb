{
  "nbformat": 4,
  "nbformat_minor": 0,
  "metadata": {
    "colab": {
      "provenance": [],
      "toc_visible": true
    },
    "kernelspec": {
      "name": "python3",
      "display_name": "Python 3"
    },
    "language_info": {
      "name": "python"
    }
  },
  "cells": [
    {
      "cell_type": "markdown",
      "source": [
        "\n",
        "# 숙명여자대학교 기계시스템학부 딥러닝 2025: Lab6\n",
        "\n",
        "## Topic: **Synthetic UI Element Detection Dataset Generator**\n",
        "## (강사: 심주용)\n",
        "\n",
        "Creat a synthetic dataset for training object detection models to recognize user interface (UI) components, specifically **icons** and **panels**.\n",
        "\n",
        "## Features\n",
        "\n",
        "- **Verified Public Icons**: Downloads a curated list of public icons from [Icons8](https://icons8.com/).\n",
        "- **Realistic Layouts**: Generates panels that are either vertically or horizontally elongated.\n",
        "- **Aligned Icons**: Icons are placed in a single row or column aligned with the orientation of each panel.\n",
        "- **Dynamic Panel Sizing**: Each panel’s size adjusts based on the number and size of icons it contains.\n",
        "- **Non-Overlapping Panels**: Ensures that no two panels overlap in a single image.\n",
        "- **Object Detection Annotations**: Outputs labels in YOLO format (`class x_center y_center width height`) for both icons (class `0`) and panels (class `1`).\n",
        "\n",
        "## Output\n",
        "\n",
        "- `images/`: Contains generated synthetic UI images.\n",
        "- `labels/`: Contains corresponding YOLO-format annotation `.txt` files.\n",
        "\n",
        "This setup is ideal for creating training data for UI automation, accessibility tools, or mobile app design analysis.\n"
      ],
      "metadata": {
        "id": "aH2frRg4M8ZJ"
      }
    },
    {
      "cell_type": "markdown",
      "source": [
        "# Generate Train Data"
      ],
      "metadata": {
        "id": "EtSGnYgyTJtt"
      }
    },
    {
      "cell_type": "code",
      "source": [
        "import os\n",
        "import requests\n",
        "from PIL import Image, ImageDraw, UnidentifiedImageError\n",
        "from io import BytesIO\n",
        "import random\n",
        "\n",
        "# Define directories\n",
        "os.makedirs('datasets', exist_ok=True)\n",
        "images_path = 'datasets/icon/images/train'\n",
        "labels_path = 'datasets/icon/labels/train'\n",
        "os.makedirs(images_path, exist_ok=True)\n",
        "os.makedirs(labels_path, exist_ok=True)\n",
        "\n",
        "# Verified list of public icon URLs\n",
        "icons_base_url = \"https://img.icons8.com/color/96/000000/\"\n",
        "icon_names = [\n",
        "    \"home--v1\", \"settings--v1\", \"search--v1\", \"user-male-circle--v1\", \"calendar--v1\", \"camera--v1\", \"phone--v1\", \"lock--v1\", \"cloud--v1\",\n",
        "    \"facebook\", \"twitter\", \"instagram\", \"linkedin\", \"whatsapp\", \"youtube\", \"github\", \"google-logo\", \"dropbox\", \"spotify\",\n",
        "    \"paypal\", \"visa\", \"mastercard\", \"bitcoin\", \"alarm\", \"windows-10\", \"android-os\", \"ubuntu\", \"linux\",\n",
        "    \"trash\", \"download\", \"upload\", \"edit\", \"copy\", \"paste\", \"print\", \"refresh\", \"save\",\n",
        "    \"bookmark\", \"shopping-cart\", \"tag\", \"star\", \"bell\", \"document\", \"briefcase\", \"key\", \"map\",\n",
        "    \"clock\", \"gift\", \"graph\", \"chat\", \"network\", \"shield\", \"lightning-bolt\", \"rocket\",\n",
        "    \"puzzle\", \"trophy\", \"globe\", \"flag\", \"compass\", \"paper-plane\", \"thumbs-down\", \"play\", \"pause\",\n",
        "    \"stop\", \"rewind\", \"forward\", \"microphone\", \"headphones\", \"speaker\", \"video\",\n",
        "    \"music\", \"film-reel\", \"paint-palette\", \"scissors\", \"hammer\", \"wrench\", \"gear\", \"car\", \"bus\",\n",
        "    \"train\", \"bicycle\", \"motorcycle\", \"flower\", \"sun\", \"moon\", \"snowflake\"\n",
        "]\n",
        "icons = [f\"{icons_base_url}{name}.png\" for name in icon_names]\n",
        "\n",
        "# Cache downloaded icons to avoid repeated requests\n",
        "icon_cache = {}\n",
        "\n",
        "def download_icon(url):\n",
        "    if url not in icon_cache:\n",
        "        response = requests.get(url)\n",
        "        try:\n",
        "            icon_cache[url] = Image.open(BytesIO(response.content)).convert(\"RGBA\")\n",
        "        except UnidentifiedImageError:\n",
        "            print(f\"Failed to load image from URL: {url}\")\n",
        "            icon_cache[url] = None\n",
        "    return icon_cache[url]\n",
        "\n",
        "def is_overlapping(box1, box2):\n",
        "    return not (box1[2] <= box2[0] or box1[0] >= box2[2] or box1[3] <= box2[1] or box1[1] >= box2[3])\n",
        "\n",
        "def generate_synthetic_image(img_idx):\n",
        "    panel_width, panel_height = 800, 470\n",
        "    panel_color = tuple(random.randint(150, 255) for _ in range(3))\n",
        "    panel = Image.new(\"RGB\", (panel_width, panel_height), panel_color)\n",
        "    draw = ImageDraw.Draw(panel)\n",
        "\n",
        "    num_panels = random.randint(3, 10)\n",
        "    annotations = []\n",
        "    existing_boxes = []\n",
        "\n",
        "    attempts = 0\n",
        "    while len(existing_boxes) < num_panels and attempts < 50:\n",
        "        arrange_vertical = random.choice([True, False])\n",
        "        num_icons = random.randint(2, 6)\n",
        "        icon_spacing = 10\n",
        "        icon_size = random.randint(40, 60)\n",
        "\n",
        "        if arrange_vertical:\n",
        "            panel_w = icon_size + 20\n",
        "            panel_h = num_icons * icon_size + (num_icons - 1) * icon_spacing + 20\n",
        "        else:\n",
        "            panel_w = num_icons * icon_size + (num_icons - 1) * icon_spacing + 20\n",
        "            panel_h = icon_size + 20\n",
        "\n",
        "        panel_x = random.randint(0, panel_width - panel_w)\n",
        "        panel_y = random.randint(0, panel_height - panel_h)\n",
        "        panel_box = [panel_x, panel_y, panel_x + panel_w, panel_y + panel_h]\n",
        "\n",
        "        if any(is_overlapping(panel_box, eb) for eb in existing_boxes):\n",
        "            attempts += 1\n",
        "            continue\n",
        "\n",
        "        existing_boxes.append(panel_box)\n",
        "        panel_color_inner = tuple(random.randint(100, 200) for _ in range(3))\n",
        "        draw.rectangle(panel_box, fill=panel_color_inner)\n",
        "\n",
        "        x_center = (panel_x + panel_w / 2) / panel_width\n",
        "        y_center = (panel_y + panel_h / 2) / panel_height\n",
        "        width = panel_w / panel_width\n",
        "        height = panel_h / panel_height\n",
        "        annotations.append(f\"1 {x_center:.6f} {y_center:.6f} {width:.6f} {height:.6f}\")\n",
        "\n",
        "        for i in range(num_icons):\n",
        "            icon_url = random.choice(icons)\n",
        "            icon = download_icon(icon_url)\n",
        "\n",
        "            if icon is None:\n",
        "                continue\n",
        "\n",
        "            icon_resized = icon.resize((icon_size, icon_size))\n",
        "\n",
        "            if arrange_vertical:\n",
        "                icon_x = panel_x + (panel_w - icon_size) // 2\n",
        "                icon_y = panel_y + 10 + i * (icon_size + icon_spacing)\n",
        "            else:\n",
        "                icon_x = panel_x + 10 + i * (icon_size + icon_spacing)\n",
        "                icon_y = panel_y + (panel_h - icon_size) // 2\n",
        "\n",
        "            panel.paste(icon_resized, (icon_x, icon_y), icon_resized)\n",
        "\n",
        "            x_center_icon = (icon_x + icon_size / 2) / panel_width\n",
        "            y_center_icon = (icon_y + icon_size / 2) / panel_height\n",
        "            width_icon = icon_size / panel_width\n",
        "            height_icon = icon_size / panel_height\n",
        "            annotations.append(f\"0 {x_center_icon:.6f} {y_center_icon:.6f} {width_icon:.6f} {height_icon:.6f}\")\n",
        "\n",
        "        attempts += 1\n",
        "\n",
        "    img_path = os.path.join(images_path,f'synthetic_{img_idx}.png')\n",
        "    panel.save(img_path)\n",
        "\n",
        "    annotation_path = os.path.join(labels_path,f'synthetic_{img_idx}.txt')\n",
        "    with open(annotation_path, 'w') as f:\n",
        "        for annotation in annotations:\n",
        "            f.write(annotation + \"\\n\")\n",
        "\n",
        "for i in range(100):\n",
        "    generate_synthetic_image(i)\n",
        "\n",
        "print(\"Synthetic UI dataset generated with non-overlapping panels and aligned icons!\")"
      ],
      "metadata": {
        "colab": {
          "base_uri": "https://localhost:8080/"
        },
        "id": "ij1UmQMSMsDb",
        "outputId": "0e42691f-5051-4dd8-88c7-c38d24044945"
      },
      "execution_count": 23,
      "outputs": [
        {
          "output_type": "stream",
          "name": "stdout",
          "text": [
            "Synthetic UI dataset generated with non-overlapping panels and aligned icons!\n"
          ]
        }
      ]
    },
    {
      "cell_type": "markdown",
      "source": [
        "# Generate Validation Data"
      ],
      "metadata": {
        "id": "67feU7mCRuFP"
      }
    },
    {
      "cell_type": "code",
      "source": [
        "import os\n",
        "import requests\n",
        "from PIL import Image, ImageDraw, UnidentifiedImageError\n",
        "from io import BytesIO\n",
        "import random\n",
        "\n",
        "# Define directories\n",
        "os.makedirs('datasets', exist_ok=True)\n",
        "images_path = 'datasets/icon/images/val'\n",
        "labels_path = 'datasets/icon/labels/val'\n",
        "os.makedirs(images_path, exist_ok=True)\n",
        "os.makedirs(labels_path, exist_ok=True)\n",
        "\n",
        "# Verified list of public icon URLs\n",
        "icons_base_url = \"https://img.icons8.com/color/96/000000/\"\n",
        "icon_names = [\n",
        "    \"home--v1\", \"settings--v1\", \"search--v1\", \"user-male-circle--v1\", \"calendar--v1\", \"camera--v1\", \"phone--v1\", \"lock--v1\", \"cloud--v1\",\n",
        "    \"facebook\", \"twitter\", \"instagram\", \"linkedin\", \"whatsapp\", \"youtube\", \"github\", \"google-logo\", \"dropbox\", \"spotify\",\n",
        "    \"paypal\", \"visa\", \"mastercard\", \"bitcoin\", \"alarm\", \"windows-10\", \"android-os\", \"ubuntu\", \"linux\",\n",
        "    \"trash\", \"download\", \"upload\", \"edit\", \"copy\", \"paste\", \"print\", \"refresh\", \"save\",\n",
        "    \"bookmark\", \"shopping-cart\", \"tag\", \"star\", \"bell\", \"document\", \"briefcase\", \"key\", \"map\",\n",
        "    \"clock\", \"gift\", \"graph\", \"chat\", \"network\", \"shield\", \"lightning-bolt\", \"rocket\",\n",
        "    \"puzzle\", \"trophy\", \"globe\", \"flag\", \"compass\", \"paper-plane\", \"thumbs-down\", \"play\", \"pause\",\n",
        "    \"stop\", \"rewind\", \"forward\", \"microphone\", \"headphones\", \"speaker\", \"video\",\n",
        "    \"music\", \"film-reel\", \"paint-palette\", \"scissors\", \"hammer\", \"wrench\", \"gear\", \"car\", \"bus\",\n",
        "    \"train\", \"bicycle\", \"motorcycle\", \"flower\", \"sun\", \"moon\", \"snowflake\"\n",
        "]\n",
        "icons = [f\"{icons_base_url}{name}.png\" for name in icon_names]\n",
        "\n",
        "# Cache downloaded icons to avoid repeated requests\n",
        "icon_cache = {}\n",
        "\n",
        "def download_icon(url):\n",
        "    if url not in icon_cache:\n",
        "        response = requests.get(url)\n",
        "        try:\n",
        "            icon_cache[url] = Image.open(BytesIO(response.content)).convert(\"RGBA\")\n",
        "        except UnidentifiedImageError:\n",
        "            print(f\"Failed to load image from URL: {url}\")\n",
        "            icon_cache[url] = None\n",
        "    return icon_cache[url]\n",
        "\n",
        "def is_overlapping(box1, box2):\n",
        "    return not (box1[2] <= box2[0] or box1[0] >= box2[2] or box1[3] <= box2[1] or box1[1] >= box2[3])\n",
        "\n",
        "def generate_synthetic_image(img_idx):\n",
        "    panel_width, panel_height = 800, 470\n",
        "    panel_color = tuple(random.randint(150, 255) for _ in range(3))\n",
        "    panel = Image.new(\"RGB\", (panel_width, panel_height), panel_color)\n",
        "    draw = ImageDraw.Draw(panel)\n",
        "\n",
        "    num_panels = random.randint(1, 4)\n",
        "    annotations = []\n",
        "    existing_boxes = []\n",
        "\n",
        "    attempts = 0\n",
        "    while len(existing_boxes) < num_panels and attempts < 50:\n",
        "        arrange_vertical = random.choice([True, False])\n",
        "        num_icons = random.randint(2, 6)\n",
        "        icon_spacing = 10\n",
        "        icon_size = random.randint(40, 60)\n",
        "\n",
        "        if arrange_vertical:\n",
        "            panel_w = icon_size + 20\n",
        "            panel_h = num_icons * icon_size + (num_icons - 1) * icon_spacing + 20\n",
        "        else:\n",
        "            panel_w = num_icons * icon_size + (num_icons - 1) * icon_spacing + 20\n",
        "            panel_h = icon_size + 20\n",
        "\n",
        "        panel_x = random.randint(0, panel_width - panel_w)\n",
        "        panel_y = random.randint(0, panel_height - panel_h)\n",
        "        panel_box = [panel_x, panel_y, panel_x + panel_w, panel_y + panel_h]\n",
        "\n",
        "        if any(is_overlapping(panel_box, eb) for eb in existing_boxes):\n",
        "            attempts += 1\n",
        "            continue\n",
        "\n",
        "        existing_boxes.append(panel_box)\n",
        "        panel_color_inner = tuple(random.randint(100, 200) for _ in range(3))\n",
        "        draw.rectangle(panel_box, fill=panel_color_inner)\n",
        "\n",
        "        x_center = (panel_x + panel_w / 2) / panel_width\n",
        "        y_center = (panel_y + panel_h / 2) / panel_height\n",
        "        width = panel_w / panel_width\n",
        "        height = panel_h / panel_height\n",
        "        annotations.append(f\"1 {x_center:.6f} {y_center:.6f} {width:.6f} {height:.6f}\")\n",
        "\n",
        "        for i in range(num_icons):\n",
        "            icon_url = random.choice(icons)\n",
        "            icon = download_icon(icon_url)\n",
        "\n",
        "            if icon is None:\n",
        "                continue\n",
        "\n",
        "            icon_resized = icon.resize((icon_size, icon_size))\n",
        "\n",
        "            if arrange_vertical:\n",
        "                icon_x = panel_x + (panel_w - icon_size) // 2\n",
        "                icon_y = panel_y + 10 + i * (icon_size + icon_spacing)\n",
        "            else:\n",
        "                icon_x = panel_x + 10 + i * (icon_size + icon_spacing)\n",
        "                icon_y = panel_y + (panel_h - icon_size) // 2\n",
        "\n",
        "            panel.paste(icon_resized, (icon_x, icon_y), icon_resized)\n",
        "\n",
        "            x_center_icon = (icon_x + icon_size / 2) / panel_width\n",
        "            y_center_icon = (icon_y + icon_size / 2) / panel_height\n",
        "            width_icon = icon_size / panel_width\n",
        "            height_icon = icon_size / panel_height\n",
        "            annotations.append(f\"0 {x_center_icon:.6f} {y_center_icon:.6f} {width_icon:.6f} {height_icon:.6f}\")\n",
        "\n",
        "        attempts += 1\n",
        "\n",
        "    img_path = os.path.join(images_path,f'synthetic_{img_idx}.png')\n",
        "    panel.save(img_path)\n",
        "\n",
        "    annotation_path = os.path.join(labels_path,f'synthetic_{img_idx}.txt')\n",
        "    with open(annotation_path, 'w') as f:\n",
        "        for annotation in annotations:\n",
        "            f.write(annotation + \"\\n\")\n",
        "\n",
        "for i in range(50):\n",
        "    generate_synthetic_image(i)\n",
        "\n",
        "print(\"Synthetic UI dataset generated with non-overlapping panels and aligned icons!\")"
      ],
      "metadata": {
        "colab": {
          "base_uri": "https://localhost:8080/"
        },
        "id": "HpE5ISZtMsA0",
        "outputId": "3886221c-d311-405b-93a4-a6e727227066"
      },
      "execution_count": 21,
      "outputs": [
        {
          "output_type": "stream",
          "name": "stdout",
          "text": [
            "Synthetic UI dataset generated with non-overlapping panels and aligned icons!\n"
          ]
        }
      ]
    },
    {
      "cell_type": "markdown",
      "source": [
        "# Setup\n",
        "\n",
        "pip install `ultralytics` and [dependencies](https://github.com/ultralytics/ultralytics/blob/main/pyproject.toml) and check software and hardware.\n",
        "\n",
        "[![PyPI - Version](https://img.shields.io/pypi/v/ultralytics?logo=pypi&logoColor=white)](https://pypi.org/project/ultralytics/) [![Downloads](https://static.pepy.tech/badge/ultralytics)](https://www.pepy.tech/projects/ultralytics) [![PyPI - Python Version](https://img.shields.io/pypi/pyversions/ultralytics?logo=python&logoColor=gold)](https://pypi.org/project/ultralytics/)"
      ],
      "metadata": {
        "id": "KvedDUIiQePl"
      }
    },
    {
      "cell_type": "code",
      "source": [
        "%pip install ultralytics\n",
        "import ultralytics\n",
        "ultralytics.checks()"
      ],
      "metadata": {
        "colab": {
          "base_uri": "https://localhost:8080/"
        },
        "id": "H81OMYyTMr9_",
        "outputId": "8af82c1b-75d2-4cf3-d623-cf9ae86508be"
      },
      "execution_count": 15,
      "outputs": [
        {
          "output_type": "stream",
          "name": "stdout",
          "text": [
            "Ultralytics 8.3.145 🚀 Python-3.11.12 torch-2.6.0+cu124 CPU (Intel Xeon 2.20GHz)\n",
            "Setup complete ✅ (2 CPUs, 12.7 GB RAM, 41.3/107.7 GB disk)\n"
          ]
        }
      ]
    },
    {
      "cell_type": "markdown",
      "source": [
        "# Train"
      ],
      "metadata": {
        "id": "Z0GrweuxUmGd"
      }
    },
    {
      "cell_type": "code",
      "source": [
        "from ultralytics import YOLO\n",
        "\n",
        "# Load a model\n",
        "model = YOLO('yolov8n.yaml')  # build a new model from scratch\n",
        "model = YOLO('yolov8n.pt')  # load a pretrained model (recommended for training)\n",
        "\n",
        "# Use the model\n",
        "results = model.train(data='icon.yaml', epochs=5)  # train the model"
      ],
      "metadata": {
        "colab": {
          "base_uri": "https://localhost:8080/"
        },
        "id": "gl9kXcXEVWyd",
        "outputId": "cfbd8fce-80ce-422a-a76f-4484f5305604"
      },
      "execution_count": null,
      "outputs": [
        {
          "output_type": "stream",
          "name": "stdout",
          "text": [
            "Ultralytics 8.3.145 🚀 Python-3.11.12 torch-2.6.0+cu124 CPU (Intel Xeon 2.20GHz)\n",
            "\u001b[34m\u001b[1mengine/trainer: \u001b[0magnostic_nms=False, amp=True, augment=False, auto_augment=randaugment, batch=16, bgr=0.0, box=7.5, cache=False, cfg=None, classes=None, close_mosaic=10, cls=0.5, conf=None, copy_paste=0.0, copy_paste_mode=flip, cos_lr=False, cutmix=0.0, data=icon.yaml, degrees=0.0, deterministic=True, device=cpu, dfl=1.5, dnn=False, dropout=0.0, dynamic=False, embed=None, epochs=5, erasing=0.4, exist_ok=False, fliplr=0.5, flipud=0.0, format=torchscript, fraction=1.0, freeze=None, half=False, hsv_h=0.015, hsv_s=0.7, hsv_v=0.4, imgsz=640, int8=False, iou=0.7, keras=False, kobj=1.0, line_width=None, lr0=0.01, lrf=0.01, mask_ratio=4, max_det=300, mixup=0.0, mode=train, model=yolov8n.pt, momentum=0.937, mosaic=1.0, multi_scale=False, name=train3, nbs=64, nms=False, opset=None, optimize=False, optimizer=auto, overlap_mask=True, patience=100, perspective=0.0, plots=True, pose=12.0, pretrained=True, profile=False, project=None, rect=False, resume=False, retina_masks=False, save=True, save_conf=False, save_crop=False, save_dir=runs/detect/train3, save_frames=False, save_json=False, save_period=-1, save_txt=False, scale=0.5, seed=0, shear=0.0, show=False, show_boxes=True, show_conf=True, show_labels=True, simplify=True, single_cls=False, source=None, split=val, stream_buffer=False, task=detect, time=None, tracker=botsort.yaml, translate=0.1, val=True, verbose=True, vid_stride=1, visualize=False, warmup_bias_lr=0.1, warmup_epochs=3.0, warmup_momentum=0.8, weight_decay=0.0005, workers=8, workspace=None\n",
            "Overriding model.yaml nc=80 with nc=2\n",
            "\n",
            "                   from  n    params  module                                       arguments                     \n",
            "  0                  -1  1       464  ultralytics.nn.modules.conv.Conv             [3, 16, 3, 2]                 \n",
            "  1                  -1  1      4672  ultralytics.nn.modules.conv.Conv             [16, 32, 3, 2]                \n",
            "  2                  -1  1      7360  ultralytics.nn.modules.block.C2f             [32, 32, 1, True]             \n",
            "  3                  -1  1     18560  ultralytics.nn.modules.conv.Conv             [32, 64, 3, 2]                \n",
            "  4                  -1  2     49664  ultralytics.nn.modules.block.C2f             [64, 64, 2, True]             \n",
            "  5                  -1  1     73984  ultralytics.nn.modules.conv.Conv             [64, 128, 3, 2]               \n",
            "  6                  -1  2    197632  ultralytics.nn.modules.block.C2f             [128, 128, 2, True]           \n",
            "  7                  -1  1    295424  ultralytics.nn.modules.conv.Conv             [128, 256, 3, 2]              \n",
            "  8                  -1  1    460288  ultralytics.nn.modules.block.C2f             [256, 256, 1, True]           \n",
            "  9                  -1  1    164608  ultralytics.nn.modules.block.SPPF            [256, 256, 5]                 \n",
            " 10                  -1  1         0  torch.nn.modules.upsampling.Upsample         [None, 2, 'nearest']          \n",
            " 11             [-1, 6]  1         0  ultralytics.nn.modules.conv.Concat           [1]                           \n",
            " 12                  -1  1    148224  ultralytics.nn.modules.block.C2f             [384, 128, 1]                 \n",
            " 13                  -1  1         0  torch.nn.modules.upsampling.Upsample         [None, 2, 'nearest']          \n",
            " 14             [-1, 4]  1         0  ultralytics.nn.modules.conv.Concat           [1]                           \n",
            " 15                  -1  1     37248  ultralytics.nn.modules.block.C2f             [192, 64, 1]                  \n",
            " 16                  -1  1     36992  ultralytics.nn.modules.conv.Conv             [64, 64, 3, 2]                \n",
            " 17            [-1, 12]  1         0  ultralytics.nn.modules.conv.Concat           [1]                           \n",
            " 18                  -1  1    123648  ultralytics.nn.modules.block.C2f             [192, 128, 1]                 \n",
            " 19                  -1  1    147712  ultralytics.nn.modules.conv.Conv             [128, 128, 3, 2]              \n",
            " 20             [-1, 9]  1         0  ultralytics.nn.modules.conv.Concat           [1]                           \n",
            " 21                  -1  1    493056  ultralytics.nn.modules.block.C2f             [384, 256, 1]                 \n",
            " 22        [15, 18, 21]  1    751702  ultralytics.nn.modules.head.Detect           [2, [64, 128, 256]]           \n",
            "Model summary: 129 layers, 3,011,238 parameters, 3,011,222 gradients, 8.2 GFLOPs\n",
            "\n",
            "Transferred 319/355 items from pretrained weights\n",
            "Freezing layer 'model.22.dfl.conv.weight'\n",
            "\u001b[34m\u001b[1mtrain: \u001b[0mFast image access ✅ (ping: 0.0±0.0 ms, read: 678.1±177.8 MB/s, size: 34.3 KB)\n"
          ]
        },
        {
          "output_type": "stream",
          "name": "stderr",
          "text": [
            "\u001b[34m\u001b[1mtrain: \u001b[0mScanning /content/datasets/icon/labels/train... 100 images, 0 backgrounds, 0 corrupt: 100%|██████████| 100/100 [00:00<00:00, 1605.41it/s]"
          ]
        },
        {
          "output_type": "stream",
          "name": "stdout",
          "text": [
            "\u001b[34m\u001b[1mtrain: \u001b[0mNew cache created: /content/datasets/icon/labels/train.cache\n",
            "\u001b[34m\u001b[1malbumentations: \u001b[0mBlur(p=0.01, blur_limit=(3, 7)), MedianBlur(p=0.01, blur_limit=(3, 7)), ToGray(p=0.01, method='weighted_average', num_output_channels=3), CLAHE(p=0.01, clip_limit=(1.0, 4.0), tile_grid_size=(8, 8))\n",
            "\u001b[34m\u001b[1mval: \u001b[0mFast image access ✅ (ping: 0.0±0.0 ms, read: 338.7±202.6 MB/s, size: 20.2 KB)\n"
          ]
        },
        {
          "output_type": "stream",
          "name": "stderr",
          "text": [
            "\n",
            "\u001b[34m\u001b[1mval: \u001b[0mScanning /content/datasets/icon/labels/val... 51 images, 0 backgrounds, 0 corrupt: 100%|██████████| 51/51 [00:00<00:00, 2100.69it/s]"
          ]
        },
        {
          "output_type": "stream",
          "name": "stdout",
          "text": [
            "\u001b[34m\u001b[1mval: \u001b[0mNew cache created: /content/datasets/icon/labels/val.cache\n",
            "Plotting labels to runs/detect/train3/labels.jpg... \n"
          ]
        },
        {
          "output_type": "stream",
          "name": "stderr",
          "text": [
            "\n"
          ]
        },
        {
          "output_type": "stream",
          "name": "stdout",
          "text": [
            "\u001b[34m\u001b[1moptimizer:\u001b[0m 'optimizer=auto' found, ignoring 'lr0=0.01' and 'momentum=0.937' and determining best 'optimizer', 'lr0' and 'momentum' automatically... \n",
            "\u001b[34m\u001b[1moptimizer:\u001b[0m AdamW(lr=0.001667, momentum=0.9) with parameter groups 57 weight(decay=0.0), 64 weight(decay=0.0005), 63 bias(decay=0.0)\n",
            "Image sizes 640 train, 640 val\n",
            "Using 0 dataloader workers\n",
            "Logging results to \u001b[1mruns/detect/train3\u001b[0m\n",
            "Starting training for 5 epochs...\n",
            "\n",
            "      Epoch    GPU_mem   box_loss   cls_loss   dfl_loss  Instances       Size\n"
          ]
        },
        {
          "output_type": "stream",
          "name": "stderr",
          "text": [
            "        1/5         0G      1.575      3.522      1.194        138        640: 100%|██████████| 7/7 [01:35<00:00, 13.71s/it]\n",
            "                 Class     Images  Instances      Box(P          R      mAP50  mAP50-95): 100%|██████████| 2/2 [00:12<00:00,  6.11s/it]"
          ]
        },
        {
          "output_type": "stream",
          "name": "stdout",
          "text": [
            "                   all         51        660     0.0217      0.663      0.433      0.289\n"
          ]
        },
        {
          "output_type": "stream",
          "name": "stderr",
          "text": [
            "\n"
          ]
        },
        {
          "output_type": "stream",
          "name": "stdout",
          "text": [
            "\n",
            "      Epoch    GPU_mem   box_loss   cls_loss   dfl_loss  Instances       Size\n"
          ]
        },
        {
          "output_type": "stream",
          "name": "stderr",
          "text": [
            "        2/5         0G      1.176      2.792       1.01        287        640: 100%|██████████| 7/7 [01:34<00:00, 13.51s/it]\n",
            "                 Class     Images  Instances      Box(P          R      mAP50  mAP50-95): 100%|██████████| 2/2 [00:12<00:00,  6.11s/it]"
          ]
        },
        {
          "output_type": "stream",
          "name": "stdout",
          "text": [
            "                   all         51        660     0.0241      0.702      0.493      0.393\n"
          ]
        },
        {
          "output_type": "stream",
          "name": "stderr",
          "text": [
            "\n"
          ]
        },
        {
          "output_type": "stream",
          "name": "stdout",
          "text": [
            "\n",
            "      Epoch    GPU_mem   box_loss   cls_loss   dfl_loss  Instances       Size\n"
          ]
        },
        {
          "output_type": "stream",
          "name": "stderr",
          "text": [
            "        3/5         0G      1.032      1.775     0.9505        877        640:  71%|███████▏  | 5/7 [01:22<00:32, 16.19s/it]"
          ]
        }
      ]
    },
    {
      "cell_type": "markdown",
      "source": [
        "# Validation"
      ],
      "metadata": {
        "id": "OMRBT8WGUn3H"
      }
    },
    {
      "cell_type": "code",
      "source": [
        "results = model.val()  # evaluate model performance on the validation set"
      ],
      "metadata": {
        "id": "fZ-CSZysUkf8"
      },
      "execution_count": null,
      "outputs": []
    }
  ]
}