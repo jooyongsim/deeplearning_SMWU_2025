{
  "cells": [
    {
      "cell_type": "markdown",
      "metadata": {
        "id": "LSfJ_MnIZJsb"
      },
      "source": [
        "# 숙명여자대학교 기계시스템학부 딥러닝 2025: Lab2\n",
        "\n",
        "## Topic: **Data Preparation & nn Module & CNN with MNIST**\n",
        "## (강사: 심주용)\n"
      ]
    },
    {
      "cell_type": "markdown",
      "source": [
        "[Learn the Basics](intro.html) \\|\\|\n",
        "[Quickstart](quickstart_tutorial.html) \\|\\|\n",
        "[Tensors](tensorqs_tutorial.html) \\|\\| **Datasets & DataLoaders** \\|\\|\n",
        "[Transforms](transforms_tutorial.html) \\|\\| [Build\n",
        "Model](buildmodel_tutorial.html) \\|\\|\n",
        "[Autograd](autogradqs_tutorial.html) \\|\\|\n",
        "[Optimization](optimization_tutorial.html) \\|\\| [Save & Load\n",
        "Model](saveloadrun_tutorial.html)\n",
        "\n",
        "Datasets & DataLoaders\n",
        "======================\n"
      ],
      "metadata": {
        "id": "2H4NUUi54xx3"
      }
    },
    {
      "cell_type": "markdown",
      "source": [
        "Code for processing data samples can get messy and hard to maintain; we\n",
        "ideally want our dataset code to be decoupled from our model training\n",
        "code for better readability and modularity. PyTorch provides two data\n",
        "primitives: `torch.utils.data.DataLoader` and `torch.utils.data.Dataset`\n",
        "that allow you to use pre-loaded datasets as well as your own data.\n",
        "`Dataset` stores the samples and their corresponding labels, and\n",
        "`DataLoader` wraps an iterable around the `Dataset` to enable easy\n",
        "access to the samples.\n",
        "\n",
        "PyTorch domain libraries provide a number of pre-loaded datasets (such\n",
        "as FashionMNIST) that subclass `torch.utils.data.Dataset` and implement\n",
        "functions specific to the particular data. They can be used to prototype\n",
        "and benchmark your model. You can find them here: [Image\n",
        "Datasets](https://pytorch.org/vision/stable/datasets.html), [Text\n",
        "Datasets](https://pytorch.org/text/stable/datasets.html), and [Audio\n",
        "Datasets](https://pytorch.org/audio/stable/datasets.html)\n"
      ],
      "metadata": {
        "id": "1vHQksw240V7"
      }
    },
    {
      "cell_type": "markdown",
      "source": [
        "## Loading a Dataset\n",
        "=================\n",
        "\n",
        "Here is an example of how to load the\n",
        "[Fashion-MNIST](https://research.zalando.com/project/fashion_mnist/fashion_mnist/)\n",
        "dataset from TorchVision. Fashion-MNIST is a dataset of Zalando's\n",
        "article images consisting of 60,000 training examples and 10,000 test\n",
        "examples. Each example comprises a 28×28 grayscale image and an\n",
        "associated label from one of 10 classes.\n",
        "\n",
        "We load the [FashionMNIST Dataset](https://pytorch.org/vision/stable/datasets.html#fashion-mnist) with the following parameters:\n",
        "\n",
        ":   -   `root` is the path where the train/test data is stored,\n",
        "    -   `train` specifies training or test dataset,\n",
        "    -   `download=True` downloads the data from the internet if it\\'s\n",
        "        not available at `root`.\n",
        "    -   `transform` and `target_transform` specify the feature and label\n",
        "        transformations\n"
      ],
      "metadata": {
        "id": "u5n-2elh42Ur"
      }
    },
    {
      "cell_type": "code",
      "source": [
        "import torch\n",
        "from torch.utils.data import Dataset\n",
        "from torchvision import datasets\n",
        "from torchvision.transforms import ToTensor\n",
        "import matplotlib.pyplot as plt\n",
        "\n",
        "training_data = datasets.FashionMNIST(\n",
        "    root=\"data\",\n",
        "    train=True,\n",
        "    download=True,\n",
        "    transform=ToTensor()\n",
        ")\n",
        "\n",
        "test_data = datasets.FashionMNIST(\n",
        "    root=\"data\",\n",
        "    train=False,\n",
        "    download=True,\n",
        "    transform=ToTensor()\n",
        ")"
      ],
      "metadata": {
        "id": "9rscFMLE4sev"
      },
      "execution_count": null,
      "outputs": []
    },
    {
      "cell_type": "code",
      "source": [
        "len(training_data), len(test_data)\n",
        "len(training_data[0])\n",
        "img, label = training_data[0]\n",
        "img.shape, label\n",
        "# plt.imshow(img[0])\n",
        "label"
      ],
      "metadata": {
        "colab": {
          "base_uri": "https://localhost:8080/"
        },
        "id": "4wjHHR2qVjux",
        "outputId": "d09b35e2-7a29-4dd2-d45e-22a899e72b1a"
      },
      "execution_count": null,
      "outputs": [
        {
          "output_type": "execute_result",
          "data": {
            "text/plain": [
              "9"
            ]
          },
          "metadata": {},
          "execution_count": 12
        }
      ]
    },
    {
      "cell_type": "markdown",
      "source": [
        "## Iterating and Visualizing the Dataset\n",
        "=====================================\n",
        "\n",
        "We can index `Datasets` manually like a list: `training_data[index]`. We\n",
        "use `matplotlib` to visualize some samples in our training data.\n"
      ],
      "metadata": {
        "id": "8ECs_Crx7EER"
      }
    },
    {
      "cell_type": "code",
      "source": [
        "  labels_map = {\n",
        "      0: \"T-Shirt\",\n",
        "      1: \"Trouser\",\n",
        "      2: \"Pullover\",\n",
        "      3: \"Dress\",\n",
        "      4: \"Coat\",\n",
        "      5: \"Sandal\",\n",
        "      6: \"Shirt\",\n",
        "      7: \"Sneaker\",\n",
        "      8: \"Bag\",\n",
        "      9: \"Ankle Boot\",\n",
        "}\n",
        "figure = plt.figure(figsize=(8, 8))\n",
        "cols, rows = 3, 3\n",
        "for i in range(1, cols * rows + 1):\n",
        "    sample_idx = torch.randint(len(training_data), size=(1,)).item()\n",
        "    img, label = training_data[sample_idx]\n",
        "    figure.add_subplot(rows, cols, i)\n",
        "    plt.title(labels_map[label])\n",
        "    plt.axis(\"off\")\n",
        "    plt.imshow(img.squeeze(), cmap=\"gray\")\n",
        "plt.show()"
      ],
      "metadata": {
        "id": "SB6tXz637FZc",
        "colab": {
          "base_uri": "https://localhost:8080/",
          "height": 675
        },
        "outputId": "f616c2fa-65ec-4a94-abff-1a8d74a0780f"
      },
      "execution_count": null,
      "outputs": [
        {
          "output_type": "display_data",
          "data": {
            "text/plain": [
              "<Figure size 800x800 with 9 Axes>"
            ],
            "image/png": "[encoded data removed]"
          },
          "metadata": {}
        }
      ]
    },
    {
      "cell_type": "markdown",
      "source": [
        "## Creating a Custom Dataset for your files\n",
        "========================================\n",
        "\n",
        "A custom Dataset class must implement three functions:\n",
        "[\\_\\_init\\_\\_]{.title-ref}, [\\_\\_len\\_\\_]{.title-ref}, and\n",
        "[\\_\\_getitem\\_\\_]{.title-ref}. Take a look at this implementation; the\n",
        "FashionMNIST images are stored in a directory `img_dir`, and their\n",
        "labels are stored separately in a CSV file `annotations_file`.\n",
        "\n",
        "In the next sections, we\\'ll break down what\\'s happening in each of\n",
        "these functions.\n"
      ],
      "metadata": {
        "id": "dsGL9Pqd7NDm"
      }
    },
    {
      "cell_type": "code",
      "source": [
        "import os\n",
        "import pandas as pd\n",
        "from torchvision.io import read_image\n",
        "\n",
        "class CustomImageDataset(Dataset):\n",
        "    def __init__(self, annotations_file, img_dir, transform=None, target_transform=None):\n",
        "        self.img_labels = pd.read_csv(annotations_file)\n",
        "        self.img_dir = img_dir\n",
        "        self.transform = transform\n",
        "        self.target_transform = target_transform\n",
        "\n",
        "    def __len__(self):\n",
        "        return len(self.img_labels)\n",
        "\n",
        "    def __getitem__(self, idx):\n",
        "        img_path = os.path.join(self.img_dir, self.img_labels.iloc[idx, 0])\n",
        "        image = read_image(img_path)\n",
        "        label = self.img_labels.iloc[idx, 1]\n",
        "        if self.transform:\n",
        "            image = self.transform(image)\n",
        "        if self.target_transform:\n",
        "            label = self.target_transform(label)\n",
        "        return image, label"
      ],
      "metadata": {
        "id": "7rYW9RzN7Nx7"
      },
      "execution_count": null,
      "outputs": []
    },
    {
      "cell_type": "markdown",
      "source": [
        "## Preparing your data for training with DataLoaders\n",
        "=================================================\n",
        "\n",
        "The `Dataset` retrieves our dataset\\'s features and labels one sample at\n",
        "a time. While training a model, we typically want to pass samples in\n",
        "\\\"minibatches\\\", reshuffle the data at every epoch to reduce model\n",
        "overfitting, and use Python\\'s `multiprocessing` to speed up data\n",
        "retrieval.\n",
        "\n",
        "`DataLoader` is an iterable that abstracts this complexity for us in an\n",
        "easy API.\n"
      ],
      "metadata": {
        "id": "BbiXAUiid-Qc"
      }
    },
    {
      "cell_type": "code",
      "source": [
        "from torch.utils.data import DataLoader\n",
        "\n",
        "train_dataloader = DataLoader(training_data, batch_size=64, shuffle=True)\n",
        "test_dataloader = DataLoader(test_data, batch_size=64, shuffle=False)"
      ],
      "metadata": {
        "id": "fvRbGlYAd-r7"
      },
      "execution_count": null,
      "outputs": []
    },
    {
      "cell_type": "markdown",
      "source": [
        "## Iterate through the DataLoader\n",
        "==============================\n",
        "\n",
        "We have loaded that dataset into the `DataLoader` and can iterate\n",
        "through the dataset as needed. Each iteration below returns a batch of\n",
        "`train_features` and `train_labels` (containing `batch_size=64` features\n",
        "and labels respectively). Because we specified `shuffle=True`, after we\n",
        "iterate over all batches the data is shuffled (for finer-grained control\n",
        "over the data loading order, take a look at\n",
        "[Samplers](https://pytorch.org/docs/stable/data.html#data-loading-order-and-sampler)).\n"
      ],
      "metadata": {
        "id": "hKZOPu3MeBPO"
      }
    },
    {
      "cell_type": "code",
      "source": [
        "for img, label in train_dataloader:\n",
        "  print(img.shape); print(label)\n",
        "  break"
      ],
      "metadata": {
        "colab": {
          "base_uri": "https://localhost:8080/"
        },
        "id": "nDrdiNKJWqEZ",
        "outputId": "ada7788a-20ef-418e-fb7b-5253d43f43b0"
      },
      "execution_count": null,
      "outputs": [
        {
          "output_type": "stream",
          "name": "stdout",
          "text": [
            "torch.Size([64, 1, 28, 28])\n",
            "tensor([9, 0, 3, 0, 3, 2, 1, 4, 1, 7, 2, 8, 6, 4, 3, 6, 8, 5, 3, 7, 7, 2, 2, 7,\n",
            "        0, 0, 8, 4, 4, 2, 6, 3, 5, 2, 7, 3, 1, 0, 3, 6, 7, 7, 3, 2, 8, 0, 5, 3,\n",
            "        6, 6, 7, 3, 3, 1, 4, 9, 5, 9, 5, 6, 8, 5, 4, 1])\n"
          ]
        }
      ]
    },
    {
      "cell_type": "code",
      "source": [
        "# Display image and label.\n",
        "train_features, train_labels = next(iter(train_dataloader))\n",
        "print(f\"Feature batch shape: {train_features.size()}\")\n",
        "print(f\"Labels batch shape: {train_labels.size()}\")\n",
        "img = train_features[0].squeeze()\n",
        "label = train_labels[0]\n",
        "plt.imshow(img, cmap=\"gray\")\n",
        "plt.show()\n",
        "print(f\"Label: {label}\")"
      ],
      "metadata": {
        "colab": {
          "base_uri": "https://localhost:8080/",
          "height": 486
        },
        "id": "p_-1LbGBeHH6",
        "outputId": "226f6a34-d395-4857-c1a9-46808e2e6de2"
      },
      "execution_count": null,
      "outputs": [
        {
          "output_type": "stream",
          "name": "stdout",
          "text": [
            "Feature batch shape: torch.Size([64, 1, 28, 28])\n",
            "Labels batch shape: torch.Size([64])\n"
          ]
        },
        {
          "output_type": "display_data",
          "data": {
            "text/plain": [
              "<Figure size 640x480 with 1 Axes>"
            ],
            "image/png": "[encoded data removed]"
          },
          "metadata": {}
        },
        {
          "output_type": "stream",
          "name": "stdout",
          "text": [
            "Label: 5\n"
          ]
        }
      ]
    },
    {
      "cell_type": "markdown",
      "metadata": {
        "id": "Q8un1qhReBNK"
      },
      "source": [
        "# Barebone Pytorch - Fashion MNIST\n",
        "## Weight Initialization\n",
        "\n",
        "Weight initialization is crucial in deep learning as it can significantly impact the model's convergence and performance. This tutorial covers the process of initializing weights and biases in a neural network using PyTorch, focusing on a three-layer fully connected network trained on the FashionMNIST dataset."
      ]
    },
    {
      "cell_type": "markdown",
      "source": [
        "\n",
        "### Initializing Weights and Biases\n",
        "In the NeuralNetwork class, we define the layers of the neural network with custom parameters using nn.Parameter. Each layer has its weights and biases, represented as matrices and vectors, respectively. We use PyTorch's torch.Tensor to define these parameters.\n",
        "\n",
        "### Kaiming (He) Initialization\n",
        "We apply Kaiming (or He) initialization to the weights using nn.init.kaiming_uniform_. This method is particularly suited for layers followed by ReLU activation functions, as it considers the nonlinearity of the activations. The initialization helps prevent vanishing or exploding gradients during training, promoting faster convergence and improved performance.\n",
        "\n",
        "Kaiming initialization sets the tensor values uniformly in the range\n",
        "[−a,a], where a=5 . This range is derived from the number of input and output units in the tensor, ensuring that the variance remains constant across layers.\n",
        "\n",
        "### Zero Initialization for Biases\n",
        "The biases are initialized to zero using nn.init.constant_. This is a common practice as it starts the neurons with an output of zero before adjusting during training, allowing the network to learn the bias for each neuron.\n",
        "\n",
        "### Forward Pass\n",
        "In the forward method, the input tensor is flattened and passed through the linear layers with ReLU activations, except for the last layer, which directly outputs the logits. This method defines how the data flows through the network, utilizing the initialized weights and biases."
      ],
      "metadata": {
        "id": "6G5hMPxoGqJ6"
      }
    },
    {
      "cell_type": "code",
      "source": [
        "import torch\n",
        "import torch.nn.functional as F\n",
        "from torch import nn\n",
        "from torch import optim\n",
        "from torchvision.transforms import ToTensor\n",
        "from torch.utils.data import DataLoader\n",
        "import numpy as np\n",
        "\n",
        "class NeuralNetwork(nn.Module):\n",
        "    def __init__(self):\n",
        "        super().__init__()\n",
        "        self.input_size = 28*28\n",
        "        self.hidden_size = 512\n",
        "        self.output_size = 10\n",
        "\n",
        "        self.linear1 = nn.Linear(self.input_size, self.hidden_size)\n",
        "        self.linear2 = nn.Linear(self.hidden_size, self.hidden_size)\n",
        "        self.linear3 = nn.Linear(self.hidden_size, self.output_size)\n",
        "\n",
        "    def forward(self, x):\n",
        "        # Flatten the input tensor\n",
        "        x = x.view(-1, self.input_size)\n",
        "\n",
        "        x = F.relu(self.linear1(x))\n",
        "        x = F.relu(self.linear2(x))\n",
        "        logits = self.linear3(x)\n",
        "\n",
        "        return logits"
      ],
      "metadata": {
        "id": "DRvRx0v3d-sr"
      },
      "execution_count": null,
      "outputs": []
    },
    {
      "cell_type": "code",
      "source": [
        "import torch\n",
        "import torch.nn.functional as F\n",
        "from torch import nn\n",
        "from torch import optim\n",
        "from torchvision.transforms import ToTensor\n",
        "from torch.utils.data import DataLoader\n",
        "import numpy as np\n",
        "\n",
        "class NeuralNetwork(nn.Module):\n",
        "    def __init__(self):\n",
        "        super().__init__()\n",
        "        self.input_size = 28*28\n",
        "        self.hidden_size = 512\n",
        "        self.output_size = 10\n",
        "\n",
        "        # Initialize weights and biases for linear layers\n",
        "        self.weight1 = nn.Parameter(torch.Tensor(self.hidden_size, self.input_size))\n",
        "        self.bias1 = nn.Parameter(torch.Tensor(self.hidden_size))\n",
        "        self.weight2 = nn.Parameter(torch.Tensor(self.hidden_size, self.hidden_size))\n",
        "        self.bias2 = nn.Parameter(torch.Tensor(self.hidden_size))\n",
        "        self.weight3 = nn.Parameter(torch.Tensor(self.output_size, self.hidden_size))\n",
        "        self.bias3 = nn.Parameter(torch.Tensor(self.output_size))\n",
        "\n",
        "        # Kaiming initialization for weights\n",
        "        nn.init.kaiming_uniform_(self.weight1, nonlinearity='relu')\n",
        "        nn.init.kaiming_uniform_(self.weight2, nonlinearity='relu')\n",
        "        nn.init.kaiming_uniform_(self.weight3, nonlinearity='relu')\n",
        "\n",
        "        # Initialize biases to zero\n",
        "        nn.init.constant_(self.bias1, 0)\n",
        "        nn.init.constant_(self.bias2, 0)\n",
        "        nn.init.constant_(self.bias3, 0)\n",
        "\n",
        "    def forward(self, x):\n",
        "        # Flatten the input tensor\n",
        "        x = x.view(-1, self.input_size)\n",
        "\n",
        "        # Apply the first linear layer and ReLU\n",
        "        x = F.relu(F.linear(x, self.weight1, self.bias1))\n",
        "        # Apply the second linear layer and ReLU\n",
        "        x = F.relu(F.linear(x, self.weight2, self.bias2))\n",
        "        # Apply the third linear layer\n",
        "        logits = F.linear(x, self.weight3, self.bias3)\n",
        "\n",
        "        return logits\n"
      ],
      "metadata": {
        "id": "9JfEIdQQGmcb"
      },
      "execution_count": null,
      "outputs": []
    },
    {
      "cell_type": "markdown",
      "source": [
        "### Compile the model\n",
        "\n",
        "Set the **random seed** for PyTorch and NumPy respectively, which is essential for making your experiments **reproducible**.\n",
        "\n",
        "---\n",
        "\n",
        "### `torch.manual_seed(0)`\n",
        "\n",
        "- This sets the seed for PyTorch's random number generator.\n",
        "- PyTorch uses randomness for things like:\n",
        "  - Initializing model weights\n",
        "  - Random data augmentation\n",
        "  - Random sampling in training (like shuffling)\n",
        "- Setting the seed ensures that every time you run the script, **you get the same results** from these operations.\n",
        "\n",
        "---\n",
        "\n",
        "### 🔹 `np.random.seed(0)`\n",
        "\n",
        "- This sets the seed for NumPy's random number generator.\n",
        "- NumPy uses randomness in things like:\n",
        "  - `np.random.rand()`, `np.random.randn()`\n",
        "  - Shuffling arrays\n",
        "  - Sampling from distributions\n",
        "- Again, setting the seed here ensures **consistent outputs** every time the code runs.\n"
      ],
      "metadata": {
        "id": "x3ZM16xWNFYx"
      }
    },
    {
      "cell_type": "code",
      "source": [
        "import torch\n",
        "import torch.nn.functional as F\n",
        "from torch import nn\n",
        "from torch import optim\n",
        "from torchvision.transforms import ToTensor\n",
        "from torch.utils.data import DataLoader\n",
        "import numpy as np\n",
        "\n",
        "torch.manual_seed(0)\n",
        "np.random.seed(0)\n",
        "\n",
        "# Initialize the model,\n",
        "device = torch.device(\"cuda\" if torch.cuda.is_available() else \"cpu\")\n",
        "model = NeuralNetwork().to(device)\n",
        "print(model)"
      ],
      "metadata": {
        "colab": {
          "base_uri": "https://localhost:8080/"
        },
        "id": "vMnV0710IFpv",
        "outputId": "eb01f12b-d1ab-4c95-fa93-6400df6c901c"
      },
      "execution_count": null,
      "outputs": [
        {
          "output_type": "stream",
          "name": "stdout",
          "text": [
            "NeuralNetwork()\n"
          ]
        }
      ]
    },
    {
      "cell_type": "code",
      "source": [
        "model.state_dict().keys()"
      ],
      "metadata": {
        "colab": {
          "base_uri": "https://localhost:8080/"
        },
        "id": "RwgqRFcxZwPh",
        "outputId": "70af1d8b-e2b3-4195-df22-2953995234df"
      },
      "execution_count": null,
      "outputs": [
        {
          "output_type": "execute_result",
          "data": {
            "text/plain": [
              "odict_keys(['weight1', 'bias1', 'weight2', 'bias2', 'weight3', 'bias3'])"
            ]
          },
          "metadata": {},
          "execution_count": 24
        }
      ]
    },
    {
      "cell_type": "code",
      "source": [
        "torch.manual_seed(0)\n",
        "np.random.seed(0)\n",
        "model = NeuralNetwork()\n",
        "model.state_dict()['weight1']"
      ],
      "metadata": {
        "colab": {
          "base_uri": "https://localhost:8080/"
        },
        "id": "i4FskTPdcboB",
        "outputId": "0a54a2fe-8aa3-4ba8-bf3a-2973934cdda6"
      },
      "execution_count": null,
      "outputs": [
        {
          "output_type": "execute_result",
          "data": {
            "text/plain": [
              "tensor([[-0.0007,  0.0469, -0.0720,  ...,  0.0537,  0.0091,  0.0050],\n",
              "        [-0.0484, -0.0367, -0.0256,  ..., -0.0496, -0.0146, -0.0734],\n",
              "        [-0.0494,  0.0365, -0.0815,  ..., -0.0498,  0.0029,  0.0197],\n",
              "        ...,\n",
              "        [-0.0513,  0.0094, -0.0701,  ..., -0.0406,  0.0599, -0.0439],\n",
              "        [ 0.0845, -0.0526, -0.0244,  ...,  0.0785,  0.0744,  0.0774],\n",
              "        [-0.0696,  0.0031, -0.0253,  ...,  0.0250, -0.0567,  0.0465]])"
            ]
          },
          "metadata": {},
          "execution_count": 47
        }
      ]
    },
    {
      "cell_type": "code",
      "source": [
        "model.state_dict()['weight1']"
      ],
      "metadata": {
        "colab": {
          "base_uri": "https://localhost:8080/"
        },
        "id": "jUpvWkReaFDJ",
        "outputId": "c128c17e-fd4e-4e59-99eb-4aac890384cd"
      },
      "execution_count": null,
      "outputs": [
        {
          "output_type": "execute_result",
          "data": {
            "text/plain": [
              "tensor([[-0.0007,  0.0469, -0.0720,  ...,  0.0537,  0.0091,  0.0050],\n",
              "        [-0.0484, -0.0367, -0.0256,  ..., -0.0496, -0.0146, -0.0734],\n",
              "        [-0.0494,  0.0365, -0.0815,  ..., -0.0498,  0.0029,  0.0197],\n",
              "        ...,\n",
              "        [-0.0513,  0.0094, -0.0701,  ..., -0.0406,  0.0599, -0.0439],\n",
              "        [ 0.0845, -0.0526, -0.0244,  ...,  0.0785,  0.0744,  0.0774],\n",
              "        [-0.0696,  0.0031, -0.0253,  ...,  0.0250, -0.0567,  0.0465]])"
            ]
          },
          "metadata": {},
          "execution_count": 25
        }
      ]
    },
    {
      "cell_type": "code",
      "source": [
        "model.weight1.shape, model.weight1.T.shape"
      ],
      "metadata": {
        "colab": {
          "base_uri": "https://localhost:8080/"
        },
        "id": "O4X7YixpaxGU",
        "outputId": "6f352ab1-2350-4809-e397-02af0d586255"
      },
      "execution_count": null,
      "outputs": [
        {
          "output_type": "execute_result",
          "data": {
            "text/plain": [
              "(torch.Size([512, 784]), torch.Size([784, 512]))"
            ]
          },
          "metadata": {},
          "execution_count": 28
        }
      ]
    },
    {
      "cell_type": "code",
      "source": [
        "model.bias1.shape"
      ],
      "metadata": {
        "colab": {
          "base_uri": "https://localhost:8080/"
        },
        "id": "9ULURNuabaAx",
        "outputId": "226b9445-d7e4-40be-ec7f-19c476b1756a"
      },
      "execution_count": null,
      "outputs": [
        {
          "output_type": "execute_result",
          "data": {
            "text/plain": [
              "torch.Size([512])"
            ]
          },
          "metadata": {},
          "execution_count": 32
        }
      ]
    },
    {
      "cell_type": "code",
      "source": [
        "x = torch.randn(64,28*28)\n",
        "x = torch.mm(x, model.weight1.T)+model.bias1\n",
        "\n",
        "x.shape"
      ],
      "metadata": {
        "colab": {
          "base_uri": "https://localhost:8080/"
        },
        "id": "uflyeyQ2aICC",
        "outputId": "bcf87467-fb82-460f-99cc-55041ca32311"
      },
      "execution_count": null,
      "outputs": [
        {
          "output_type": "execute_result",
          "data": {
            "text/plain": [
              "torch.Size([64, 512])"
            ]
          },
          "metadata": {},
          "execution_count": 34
        }
      ]
    },
    {
      "cell_type": "markdown",
      "metadata": {
        "id": "WCfPHO14fhlp"
      },
      "source": [
        "### Training and Testing\n",
        "The model is then compiled, trained, and evaluated. During training, the weights and biases are automatically adjusted through backpropagation. The weight initialization plays a critical role in ensuring that these adjustments lead to effective learning.\n",
        "\n",
        "### Outlook\n",
        "Proper weight initialization, like Kaiming initialization used here, is essential for training deep neural networks efficiently. It helps in maintaining a stable gradient flow across layers, leading to faster and more reliable convergence during training."
      ]
    },
    {
      "cell_type": "code",
      "execution_count": null,
      "metadata": {
        "colab": {
          "base_uri": "https://localhost:8080/"
        },
        "id": "9lywQzQXeBdr",
        "outputId": "9c62ba58-be14-41e1-ef15-b0fd82cbf433"
      },
      "outputs": [
        {
          "output_type": "stream",
          "name": "stdout",
          "text": [
            "Shape of X [N, C, H, W]: torch.Size([64, 1, 28, 28])\n",
            "Shape of y: torch.Size([64]) torch.int64\n",
            "Epoch 1\n",
            "-------------------------------\n",
            "loss: 2.593934  [    0/60000]\n",
            "loss: 0.533089  [ 6400/60000]\n",
            "loss: 0.383679  [12800/60000]\n",
            "loss: 0.499625  [19200/60000]\n",
            "loss: 0.446706  [25600/60000]\n",
            "loss: 0.422106  [32000/60000]\n",
            "loss: 0.372907  [38400/60000]\n",
            "loss: 0.521575  [44800/60000]\n",
            "loss: 0.465882  [51200/60000]\n",
            "loss: 0.478870  [57600/60000]\n",
            "Test Error: \n",
            " Accuracy: 84.8%, Avg loss: 0.412737 \n",
            "\n",
            "Epoch 2\n",
            "-------------------------------\n",
            "loss: 0.246846  [    0/60000]\n",
            "loss: 0.311772  [ 6400/60000]\n",
            "loss: 0.287407  [12800/60000]\n",
            "loss: 0.350479  [19200/60000]\n",
            "loss: 0.413477  [25600/60000]\n",
            "loss: 0.365600  [32000/60000]\n",
            "loss: 0.333014  [38400/60000]\n",
            "loss: 0.484377  [44800/60000]\n",
            "loss: 0.358451  [51200/60000]\n",
            "loss: 0.444003  [57600/60000]\n",
            "Test Error: \n",
            " Accuracy: 85.7%, Avg loss: 0.385971 \n",
            "\n",
            "Epoch 3\n",
            "-------------------------------\n",
            "loss: 0.212790  [    0/60000]\n",
            "loss: 0.317925  [ 6400/60000]\n",
            "loss: 0.265910  [12800/60000]\n",
            "loss: 0.292175  [19200/60000]\n",
            "loss: 0.459579  [25600/60000]\n",
            "loss: 0.328168  [32000/60000]\n",
            "loss: 0.281122  [38400/60000]\n",
            "loss: 0.412862  [44800/60000]\n",
            "loss: 0.300839  [51200/60000]\n",
            "loss: 0.374047  [57600/60000]\n",
            "Test Error: \n",
            " Accuracy: 86.2%, Avg loss: 0.371186 \n",
            "\n",
            "Epoch 4\n",
            "-------------------------------\n",
            "loss: 0.211211  [    0/60000]\n",
            "loss: 0.297468  [ 6400/60000]\n",
            "loss: 0.227654  [12800/60000]\n",
            "loss: 0.256721  [19200/60000]\n",
            "loss: 0.389338  [25600/60000]\n",
            "loss: 0.310669  [32000/60000]\n",
            "loss: 0.253546  [38400/60000]\n",
            "loss: 0.384422  [44800/60000]\n",
            "loss: 0.293998  [51200/60000]\n",
            "loss: 0.352488  [57600/60000]\n",
            "Test Error: \n",
            " Accuracy: 86.7%, Avg loss: 0.366754 \n",
            "\n",
            "Epoch 5\n",
            "-------------------------------\n",
            "loss: 0.193716  [    0/60000]\n",
            "loss: 0.216282  [ 6400/60000]\n",
            "loss: 0.244397  [12800/60000]\n",
            "loss: 0.222881  [19200/60000]\n",
            "loss: 0.344252  [25600/60000]\n",
            "loss: 0.314404  [32000/60000]\n",
            "loss: 0.213888  [38400/60000]\n",
            "loss: 0.315516  [44800/60000]\n",
            "loss: 0.284133  [51200/60000]\n",
            "loss: 0.289860  [57600/60000]\n",
            "Test Error: \n",
            " Accuracy: 87.0%, Avg loss: 0.358011 \n",
            "\n",
            "Done!\n",
            "Predicted: \"Ankle boot\", Actual: \"Ankle boot\"\n"
          ]
        }
      ],
      "source": [
        "# Initialize the loss function and optimizer\n",
        "loss_fn = nn.CrossEntropyLoss()\n",
        "optimizer = optim.Adam(model.parameters(), lr=0.001)\n",
        "\n",
        "# Define the training loop\n",
        "def train(dataloader, model, loss_fn, optimizer):\n",
        "    size = len(dataloader.dataset)\n",
        "    model.train()\n",
        "    for batch, (X, y) in enumerate(dataloader):\n",
        "        X, y = X.to(device), y.to(device)\n",
        "\n",
        "        # Compute prediction error\n",
        "        pred = model(X)\n",
        "        loss = loss_fn(pred, y)\n",
        "\n",
        "        # Backpropagation\n",
        "        optimizer.zero_grad()\n",
        "        loss.backward()\n",
        "        optimizer.step()\n",
        "\n",
        "        if batch % 100 == 0:\n",
        "            loss, current = loss.item(), batch * len(X)\n",
        "            print(f\"loss: {loss:>7f}  [{current:>5d}/{size:>5d}]\")\n",
        "\n",
        "# Define the testing loop\n",
        "def test(dataloader, model, loss_fn):\n",
        "    size = len(dataloader.dataset)\n",
        "    num_batches = len(dataloader)\n",
        "    model.eval()\n",
        "    test_loss, correct = 0, 0\n",
        "    with torch.no_grad():\n",
        "        for X, y in dataloader:\n",
        "            X, y = X.to(device), y.to(device)\n",
        "            pred = model(X)\n",
        "            test_loss += loss_fn(pred, y).item()\n",
        "            correct += (pred.argmax(1) == y).type(torch.float).sum().item()\n",
        "    test_loss /= num_batches\n",
        "    correct /= size\n",
        "    print(f\"Test Error: \\n Accuracy: {(100*correct):>0.1f}%, Avg loss: {test_loss:>8f} \\n\")\n",
        "\n",
        "\n",
        "batch_size = 64\n",
        "\n",
        "# Create data loaders.\n",
        "train_dataloader = DataLoader(training_data, batch_size=batch_size)\n",
        "test_dataloader = DataLoader(test_data, batch_size=batch_size)\n",
        "\n",
        "for X, y in test_dataloader:\n",
        "    print(f\"Shape of X [N, C, H, W]: {X.shape}\")\n",
        "    print(f\"Shape of y: {y.shape} {y.dtype}\")\n",
        "    break\n",
        "\n",
        "epochs = 5\n",
        "for t in range(epochs):\n",
        "    print(f\"Epoch {t+1}\\n-------------------------------\")\n",
        "    train(train_dataloader, model, loss_fn, optimizer)\n",
        "    test(test_dataloader, model, loss_fn)\n",
        "print(\"Done!\")\n",
        "\n",
        "classes = [\n",
        "    \"T-shirt/top\",\n",
        "    \"Trouser\",\n",
        "    \"Pullover\",\n",
        "    \"Dress\",\n",
        "    \"Coat\",\n",
        "    \"Sandal\",\n",
        "    \"Shirt\",\n",
        "    \"Sneaker\",\n",
        "    \"Bag\",\n",
        "    \"Ankle boot\",\n",
        "]\n",
        "\n",
        "model.eval()\n",
        "x, y = test_data[0][0], test_data[0][1]\n",
        "with torch.no_grad():\n",
        "    x = x.to(device)\n",
        "    pred = model(x)\n",
        "    predicted, actual = classes[pred[0].argmax(0)], classes[y]\n",
        "    print(f'Predicted: \"{predicted}\", Actual: \"{actual}\"')\n"
      ]
    },
    {
      "cell_type": "code",
      "source": [
        "# prompt: Visualize the inference and images after predicting using the trained model\n",
        "\n",
        "import matplotlib.pyplot as plt\n",
        "import numpy as np\n",
        "\n",
        "# Assuming 'test_data' and 'model' are defined as in your provided code\n",
        "\n",
        "# Function to display the image and prediction\n",
        "def visualize_prediction(image, actual_label, predicted_label):\n",
        "    plt.imshow(image.squeeze(), cmap=\"gray\")\n",
        "    plt.title(f\"Actual: {actual_label}, Predicted: {predicted_label}\")\n",
        "    plt.axis(\"off\")\n",
        "    plt.show()\n",
        "\n",
        "\n",
        "# Number of images to visualize\n",
        "num_images_to_visualize = 5\n",
        "\n",
        "# Iterate through a few images in the test dataset\n",
        "for i in range(num_images_to_visualize):\n",
        "    x, y = test_data[i][0], test_data[i][1]\n",
        "    with torch.no_grad():\n",
        "      x = x.to(device)\n",
        "      pred = model(x)\n",
        "      predicted = classes[pred[0].argmax(0)]\n",
        "      actual = classes[y]\n",
        "      visualize_prediction(x.cpu(), actual, predicted) #Move tensor to CPU for visualization\n",
        "\n"
      ],
      "metadata": {
        "colab": {
          "base_uri": "https://localhost:8080/",
          "height": 1000
        },
        "id": "EpeIzdSLgvro",
        "outputId": "1a36a97f-9cbf-4daa-feb3-a477a072efe6"
      },
      "execution_count": null,
      "outputs": [
        {
          "output_type": "display_data",
          "data": {
            "text/plain": [
              "<Figure size 640x480 with 1 Axes>"
            ],
            "image/png": "[encoded data removed]"
          },
          "metadata": {}
        },
        {
          "output_type": "display_data",
          "data": {
            "text/plain": [
              "<Figure size 640x480 with 1 Axes>"
            ],
            "image/png": "[encoded data removed]"
          },
          "metadata": {}
        },
        {
          "output_type": "display_data",
          "data": {
            "text/plain": [
              "<Figure size 640x480 with 1 Axes>"
            ],
            "image/png": "[encoded data removed]"
          },
          "metadata": {}
        },
        {
          "output_type": "display_data",
          "data": {
            "text/plain": [
              "<Figure size 640x480 with 1 Axes>"
            ],
            "image/png": "[encoded data removed]"
          },
          "metadata": {}
        },
        {
          "output_type": "display_data",
          "data": {
            "text/plain": [
              "<Figure size 640x480 with 1 Axes>"
            ],
            "image/png": "[encoded data removed]"
          },
          "metadata": {}
        }
      ]
    },
    {
      "cell_type": "markdown",
      "source": [
        "# CNN MNIST Example\n",
        "\n",
        "Here's a complete PyTorch code snippet for classifying the MNIST dataset using a Convolutional Neural Network (CNN). This example covers the full process: loading the data, defining the model, training the model, and evaluating its performance."
      ],
      "metadata": {
        "id": "Zxz8-2zBN5KV"
      }
    },
    {
      "cell_type": "markdown",
      "source": [
        "## CNN with Dropout\n",
        "Step-by-step tutorial on how to perform MNIST classification using PyTorch. MNIST is a dataset of handwritten digits, commonly used for training various image processing systems. This dataset contains 60,000 training images and 10,000 testing images, each being a 28x28 pixel grayscale image of a digit from 0 to 9."
      ],
      "metadata": {
        "id": "kN6Gk4WxOMGs"
      }
    },
    {
      "cell_type": "code",
      "source": [
        "import torch\n",
        "import torchvision\n",
        "import torchvision.transforms as transforms\n",
        "from torch import nn, optim\n",
        "from torch.utils.data import DataLoader, Subset\n",
        "import matplotlib.pyplot as plt\n",
        "import numpy as np\n",
        "\n",
        "# Set seeds for reproducibility\n",
        "torch.manual_seed(0)\n",
        "np.random.seed(0)\n",
        "\n",
        "# Step 1: Define the transformations and load the MNIST dataset\n",
        "transform = transforms.Compose(\n",
        "    [transforms.ToTensor(),\n",
        "     transforms.Normalize((0.5,), (0.5,))])\n",
        "\n",
        "trainset_full = torchvision.datasets.MNIST(root='./data', train=True,\n",
        "                                           download=True, transform=transform)\n",
        "testset_full = torchvision.datasets.MNIST(root='./data', train=False,\n",
        "                                     download=True, transform=transform)\n",
        "\n",
        "# Reduce the training set to 10%\n",
        "num_train = len(trainset_full)\n",
        "indices = list(range(num_train))\n",
        "np.random.shuffle(indices)\n",
        "subset_indices = indices[:int(0.001 * num_train)]\n",
        "trainset = Subset(trainset_full, subset_indices)\n",
        "\n",
        "num_test = len(testset_full)\n",
        "indices = list(range(num_test))\n",
        "np.random.shuffle(indices)\n",
        "subset_indices = indices[:int(0.05 * num_test)]\n",
        "testset = Subset(testset_full, subset_indices)\n",
        "\n",
        "# DataLoader\n",
        "trainloader = DataLoader(trainset, batch_size=64, shuffle=True)\n",
        "testloader = DataLoader(testset, batch_size=64, shuffle=False)\n",
        "\n",
        "print('num_train', num_train, 'num_test', num_test)\n",
        "\n",
        "# Step 2: Define the CNN architecture with dropout\n",
        "class NetWithDropout(nn.Module):\n",
        "    def __init__(self):\n",
        "        super(NetWithDropout, self).__init__()\n",
        "        # self.conv1 = nn.Conv2d(1, 32, 3, 1)\n",
        "        self.conv1 = nn.Conv2d(in_channels=1,out_channels=32, \\\n",
        "                               kernel_size=3, stride=1)\n",
        "        self.conv2 = nn.Conv2d(32, 64, 3, 1)\n",
        "        self.dropout1 = nn.Dropout2d(0.25)\n",
        "        self.dropout2 = nn.Dropout2d(0.5)\n",
        "        self.fc1 = nn.Linear(9216, 128)\n",
        "        self.fc2 = nn.Linear(128, 10)\n",
        "\n",
        "    def forward(self, x):\n",
        "        x = self.conv1(x)\n",
        "        x = nn.functional.relu(x)\n",
        "        x = self.conv2(x)\n",
        "        x = nn.functional.relu(x)\n",
        "        x = nn.functional.max_pool2d(x, 2)\n",
        "        x = self.dropout1(x)\n",
        "        x = torch.flatten(x, 1)\n",
        "        x = self.fc1(x)\n",
        "        x = nn.functional.relu(x)\n",
        "        x = self.dropout2(x)\n",
        "        x = self.fc2(x)\n",
        "        return nn.functional.log_softmax(x, dim=1)\n",
        "\n",
        "# Instantiate networks\n",
        "net_with_dropout = NetWithDropout()\n"
      ],
      "metadata": {
        "colab": {
          "base_uri": "https://localhost:8080/"
        },
        "id": "VDvW0fHfhWOx",
        "outputId": "31dbf173-617c-4835-b4fc-2442744085d3"
      },
      "execution_count": null,
      "outputs": [
        {
          "output_type": "stream",
          "name": "stdout",
          "text": [
            "num_train 60000 num_test 10000\n"
          ]
        }
      ]
    },
    {
      "cell_type": "code",
      "source": [
        "x = torch.randn(64,1,28,28)\n",
        "net_with_dropout.conv1(x).shape"
      ],
      "metadata": {
        "colab": {
          "base_uri": "https://localhost:8080/"
        },
        "id": "EVpWhJ_OhXyP",
        "outputId": "cedcdb91-6b61-4d5a-a2cf-42f1db371044"
      },
      "execution_count": null,
      "outputs": [
        {
          "output_type": "execute_result",
          "data": {
            "text/plain": [
              "torch.Size([64, 32, 26, 26])"
            ]
          },
          "metadata": {},
          "execution_count": 54
        }
      ]
    },
    {
      "cell_type": "code",
      "source": [
        "# Step 3: Define a Loss function and Optimizer, and Train\n",
        "def train_and_evaluate(model, optimizer, trainloader, testloader, epochs=70):\n",
        "    criterion = nn.CrossEntropyLoss()\n",
        "    training_losses = []\n",
        "    training_accuracies = []\n",
        "    test_losses = []\n",
        "    test_accuracies = []\n",
        "\n",
        "    for epoch in range(epochs):\n",
        "        model.train()\n",
        "        running_loss = 0.0\n",
        "        correct = 0\n",
        "        total = 0\n",
        "        for i, data in enumerate(trainloader, 0):\n",
        "            inputs, labels = data\n",
        "            optimizer.zero_grad()\n",
        "            outputs = model(inputs)\n",
        "            loss = criterion(outputs, labels)\n",
        "            loss.backward()\n",
        "            optimizer.step()\n",
        "\n",
        "            running_loss += loss.item()\n",
        "            _, predicted = torch.max(outputs.data, 1)\n",
        "            total += labels.size(0)\n",
        "            correct += (predicted == labels).sum().item()\n",
        "\n",
        "        training_losses.append(running_loss / len(trainloader))\n",
        "        training_accuracies.append(100 * correct / total)\n",
        "\n",
        "        # Evaluate on test data\n",
        "        model.eval()\n",
        "        correct = 0\n",
        "        total = 0\n",
        "        test_loss = 0\n",
        "        with torch.no_grad():\n",
        "            for data in testloader:\n",
        "                inputs, labels = data\n",
        "                outputs = model(inputs)\n",
        "                loss = criterion(outputs, labels)\n",
        "\n",
        "                test_loss += loss.item()\n",
        "                _, predicted = torch.max(outputs.data, 1)\n",
        "                total += labels.size(0)\n",
        "                correct += (predicted == labels).sum().item()\n",
        "\n",
        "        test_losses.append(test_loss / len(testloader))\n",
        "        test_accuracies.append(100 * correct / total)\n",
        "        print(f'Epoch {epoch + 1}: Train Loss = {running_loss / len(trainloader):.4f}, Train Accuracy = {training_accuracies[-1]:.2f}%, Test Accuracy = {100 * correct / total:.2f}%')\n",
        "\n",
        "    return training_losses, test_losses, training_accuracies, test_accuracies\n",
        "\n",
        "optimizer_with_do = optim.Adam(net_with_dropout.parameters(), lr=0.001)\n",
        "\n",
        "loss_train, loss_test, acc_train_with_do, acc_test_with_do = \\\n",
        "train_and_evaluate(net_with_dropout, optimizer_with_do, trainloader, testloader)\n",
        "\n",
        "# Plot the learning curves\n",
        "plt.figure(figsize=(15, 5))\n",
        "\n",
        "plt.subplot(1, 2, 1)\n",
        "plt.plot(loss_train, label='Train Loss')\n",
        "plt.plot(loss_test, label='Test Loss')\n",
        "plt.title('Loss')\n",
        "plt.xlabel('Epoch')\n",
        "plt.ylabel('Loss')\n",
        "plt.legend()\n",
        "\n",
        "plt.subplot(1, 2, 2)\n",
        "plt.plot(acc_train_with_do, label='Train Accuracy')\n",
        "plt.plot(acc_test_with_do, label='Train Accuracy')\n",
        "plt.title('Test Accuracy')\n",
        "plt.xlabel('Epoch')\n",
        "plt.ylabel('Accuracy (%)')\n",
        "plt.legend()\n",
        "\n",
        "plt.show()\n"
      ],
      "metadata": {
        "colab": {
          "base_uri": "https://localhost:8080/",
          "height": 1000
        },
        "id": "FCifWwA5PasX",
        "outputId": "9cad3362-31b6-47be-b31b-abd2d3d820dd"
      },
      "execution_count": null,
      "outputs": [
        {
          "output_type": "stream",
          "name": "stderr",
          "text": [
            "/usr/local/lib/python3.11/dist-packages/torch/nn/functional.py:1538: UserWarning: dropout2d: Received a 2-D input to dropout2d, which is deprecated and will result in an error in a future release. To retain the behavior and silence this warning, please use dropout instead. Note that dropout2d exists to provide channel-wise dropout on inputs with 2 spatial dimensions, a channel dimension, and an optional batch dimension (i.e. 3D or 4D inputs).\n",
            "  warnings.warn(warn_msg)\n"
          ]
        },
        {
          "output_type": "stream",
          "name": "stdout",
          "text": [
            "Epoch 1: Train Loss = 2.2977, Train Accuracy = 11.67%, Test Accuracy = 14.80%\n",
            "Epoch 2: Train Loss = 2.2278, Train Accuracy = 20.00%, Test Accuracy = 10.00%\n",
            "Epoch 3: Train Loss = 2.1325, Train Accuracy = 23.33%, Test Accuracy = 35.20%\n",
            "Epoch 4: Train Loss = 1.9743, Train Accuracy = 35.00%, Test Accuracy = 38.00%\n",
            "Epoch 5: Train Loss = 1.8648, Train Accuracy = 46.67%, Test Accuracy = 40.20%\n",
            "Epoch 6: Train Loss = 1.7094, Train Accuracy = 51.67%, Test Accuracy = 41.00%\n",
            "Epoch 7: Train Loss = 1.5477, Train Accuracy = 61.67%, Test Accuracy = 44.20%\n",
            "Epoch 8: Train Loss = 1.3003, Train Accuracy = 73.33%, Test Accuracy = 48.20%\n",
            "Epoch 9: Train Loss = 1.1143, Train Accuracy = 80.00%, Test Accuracy = 50.80%\n",
            "Epoch 10: Train Loss = 0.9947, Train Accuracy = 76.67%, Test Accuracy = 52.20%\n",
            "Epoch 11: Train Loss = 0.9350, Train Accuracy = 71.67%, Test Accuracy = 53.80%\n",
            "Epoch 12: Train Loss = 0.7363, Train Accuracy = 85.00%, Test Accuracy = 54.40%\n",
            "Epoch 13: Train Loss = 0.5628, Train Accuracy = 90.00%, Test Accuracy = 56.80%\n",
            "Epoch 14: Train Loss = 0.5434, Train Accuracy = 81.67%, Test Accuracy = 57.60%\n",
            "Epoch 15: Train Loss = 0.3961, Train Accuracy = 93.33%, Test Accuracy = 58.20%\n",
            "Epoch 16: Train Loss = 0.4851, Train Accuracy = 86.67%, Test Accuracy = 58.20%\n",
            "Epoch 17: Train Loss = 0.3801, Train Accuracy = 90.00%, Test Accuracy = 60.80%\n",
            "Epoch 18: Train Loss = 0.2706, Train Accuracy = 93.33%, Test Accuracy = 63.20%\n",
            "Epoch 19: Train Loss = 0.2616, Train Accuracy = 93.33%, Test Accuracy = 63.80%\n",
            "Epoch 20: Train Loss = 0.1890, Train Accuracy = 95.00%, Test Accuracy = 63.60%\n",
            "Epoch 21: Train Loss = 0.2008, Train Accuracy = 93.33%, Test Accuracy = 63.40%\n",
            "Epoch 22: Train Loss = 0.1667, Train Accuracy = 95.00%, Test Accuracy = 63.80%\n",
            "Epoch 23: Train Loss = 0.1750, Train Accuracy = 95.00%, Test Accuracy = 64.00%\n",
            "Epoch 24: Train Loss = 0.1772, Train Accuracy = 95.00%, Test Accuracy = 64.60%\n",
            "Epoch 25: Train Loss = 0.0992, Train Accuracy = 98.33%, Test Accuracy = 65.20%\n",
            "Epoch 26: Train Loss = 0.1700, Train Accuracy = 95.00%, Test Accuracy = 65.80%\n",
            "Epoch 27: Train Loss = 0.1427, Train Accuracy = 96.67%, Test Accuracy = 65.20%\n",
            "Epoch 28: Train Loss = 0.1478, Train Accuracy = 96.67%, Test Accuracy = 65.80%\n",
            "Epoch 29: Train Loss = 0.0681, Train Accuracy = 98.33%, Test Accuracy = 66.00%\n",
            "Epoch 30: Train Loss = 0.0565, Train Accuracy = 100.00%, Test Accuracy = 66.00%\n",
            "Epoch 31: Train Loss = 0.0868, Train Accuracy = 98.33%, Test Accuracy = 66.00%\n",
            "Epoch 32: Train Loss = 0.0908, Train Accuracy = 100.00%, Test Accuracy = 65.40%\n",
            "Epoch 33: Train Loss = 0.0557, Train Accuracy = 100.00%, Test Accuracy = 65.40%\n",
            "Epoch 34: Train Loss = 0.1120, Train Accuracy = 95.00%, Test Accuracy = 65.60%\n",
            "Epoch 35: Train Loss = 0.0546, Train Accuracy = 98.33%, Test Accuracy = 66.40%\n",
            "Epoch 36: Train Loss = 0.0517, Train Accuracy = 98.33%, Test Accuracy = 67.40%\n",
            "Epoch 37: Train Loss = 0.0214, Train Accuracy = 100.00%, Test Accuracy = 68.00%\n",
            "Epoch 38: Train Loss = 0.0469, Train Accuracy = 100.00%, Test Accuracy = 67.20%\n",
            "Epoch 39: Train Loss = 0.0495, Train Accuracy = 98.33%, Test Accuracy = 66.80%\n",
            "Epoch 40: Train Loss = 0.0288, Train Accuracy = 100.00%, Test Accuracy = 66.80%\n",
            "Epoch 41: Train Loss = 0.0443, Train Accuracy = 98.33%, Test Accuracy = 66.60%\n",
            "Epoch 42: Train Loss = 0.0220, Train Accuracy = 100.00%, Test Accuracy = 67.00%\n",
            "Epoch 43: Train Loss = 0.0408, Train Accuracy = 100.00%, Test Accuracy = 66.20%\n",
            "Epoch 44: Train Loss = 0.0329, Train Accuracy = 98.33%, Test Accuracy = 66.80%\n",
            "Epoch 45: Train Loss = 0.0458, Train Accuracy = 100.00%, Test Accuracy = 67.20%\n",
            "Epoch 46: Train Loss = 0.0167, Train Accuracy = 100.00%, Test Accuracy = 68.20%\n",
            "Epoch 47: Train Loss = 0.0235, Train Accuracy = 100.00%, Test Accuracy = 67.80%\n",
            "Epoch 48: Train Loss = 0.0265, Train Accuracy = 100.00%, Test Accuracy = 68.00%\n",
            "Epoch 49: Train Loss = 0.0239, Train Accuracy = 100.00%, Test Accuracy = 68.20%\n",
            "Epoch 50: Train Loss = 0.0071, Train Accuracy = 100.00%, Test Accuracy = 67.80%\n",
            "Epoch 51: Train Loss = 0.0347, Train Accuracy = 98.33%, Test Accuracy = 67.80%\n",
            "Epoch 52: Train Loss = 0.0106, Train Accuracy = 100.00%, Test Accuracy = 67.60%\n",
            "Epoch 53: Train Loss = 0.0645, Train Accuracy = 98.33%, Test Accuracy = 67.80%\n",
            "Epoch 54: Train Loss = 0.0154, Train Accuracy = 100.00%, Test Accuracy = 67.80%\n",
            "Epoch 55: Train Loss = 0.0324, Train Accuracy = 100.00%, Test Accuracy = 68.00%\n",
            "Epoch 56: Train Loss = 0.0692, Train Accuracy = 98.33%, Test Accuracy = 68.20%\n",
            "Epoch 57: Train Loss = 0.0203, Train Accuracy = 100.00%, Test Accuracy = 68.40%\n",
            "Epoch 58: Train Loss = 0.0058, Train Accuracy = 100.00%, Test Accuracy = 68.20%\n",
            "Epoch 59: Train Loss = 0.0033, Train Accuracy = 100.00%, Test Accuracy = 68.60%\n",
            "Epoch 60: Train Loss = 0.0081, Train Accuracy = 100.00%, Test Accuracy = 68.20%\n",
            "Epoch 61: Train Loss = 0.0031, Train Accuracy = 100.00%, Test Accuracy = 68.60%\n",
            "Epoch 62: Train Loss = 0.0050, Train Accuracy = 100.00%, Test Accuracy = 68.60%\n",
            "Epoch 63: Train Loss = 0.0241, Train Accuracy = 98.33%, Test Accuracy = 68.40%\n",
            "Epoch 64: Train Loss = 0.0176, Train Accuracy = 100.00%, Test Accuracy = 69.40%\n",
            "Epoch 65: Train Loss = 0.0066, Train Accuracy = 100.00%, Test Accuracy = 69.20%\n",
            "Epoch 66: Train Loss = 0.0062, Train Accuracy = 100.00%, Test Accuracy = 68.80%\n",
            "Epoch 67: Train Loss = 0.0049, Train Accuracy = 100.00%, Test Accuracy = 68.40%\n",
            "Epoch 68: Train Loss = 0.0380, Train Accuracy = 98.33%, Test Accuracy = 69.00%\n",
            "Epoch 69: Train Loss = 0.0241, Train Accuracy = 100.00%, Test Accuracy = 69.40%\n",
            "Epoch 70: Train Loss = 0.0058, Train Accuracy = 100.00%, Test Accuracy = 69.80%\n"
          ]
        },
        {
          "output_type": "display_data",
          "data": {
            "text/plain": [
              "<Figure size 1500x500 with 2 Axes>"
            ],
            "image/png": "[encoded data removed]"
          },
          "metadata": {}
        }
      ]
    }
  ],
  "metadata": {
    "colab": {
      "provenance": [],
      "toc_visible": true,
      "gpuType": "V28"
    },
    "kernelspec": {
      "display_name": "Python 3",
      "name": "python3"
    },
    "language_info": {
      "name": "python"
    },
    "accelerator": "TPU"
  },
  "nbformat": 4,
  "nbformat_minor": 0
}