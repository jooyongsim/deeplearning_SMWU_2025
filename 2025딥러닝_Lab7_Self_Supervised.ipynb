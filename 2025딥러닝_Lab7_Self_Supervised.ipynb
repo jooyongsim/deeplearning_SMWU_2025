{
  "cells": [
    {
      "cell_type": "markdown",
      "source": [
        "# 숙명여자대학교 Deep Learning 2025 수업 Lab 7: Self-Supervised"
      ],
      "metadata": {
        "id": "zXTccWVgU_ub"
      }
    },
    {
      "cell_type": "markdown",
      "source": [
        "# Self-supervised Learning with TensorFlow\n",
        "\n",
        "\n",
        "## Pretext Task - Rotation\n",
        "\n",
        "### RotNet\n",
        "Hypothesis: a model could recognize the correct rotation of an object only if it has the “visual common sense” of what the object should look like self-supervised learning by rotating the entire input images. The model learns to predict which rotation is applied (4-way classification)\n",
        "\n",
        "### Supervised vs Self-supervised\n",
        "The accuracy gap between the RotNet based model and the fully supervised Network-In-Network (NIN) model is very small, only 1.64% points\n",
        "We do not need data labels to train the RotNet based model but achieved similar accuracy with that of the model which used data labels for training"
      ],
      "metadata": {
        "id": "0rvW_VT_AF9F"
      }
    },
    {
      "cell_type": "markdown",
      "source": [
        "## Import Library and Load MNIST"
      ],
      "metadata": {
        "id": "pLFfmF9J2qmG"
      }
    },
    {
      "cell_type": "code",
      "execution_count": null,
      "metadata": {
        "id": "wnaoUQvCuiPT"
      },
      "outputs": [],
      "source": [
        "import tensorflow as tf\n",
        "import numpy as np\n",
        "from tensorflow import keras\n",
        "from tensorflow.keras import Sequential\n",
        "from tensorflow.keras.layers import Conv2D, MaxPooling2D, Flatten, Dense\n",
        "import matplotlib.pyplot as plt"
      ]
    },
    {
      "cell_type": "markdown",
      "source": [
        "We will use 10000 self-supervision data, 1000 downstream task data, and 300 test data"
      ],
      "metadata": {
        "id": "r6mqwpx5K1hA"
      }
    },
    {
      "cell_type": "code",
      "source": [
        "(X_train, Y_train), (X_test, Y_test) = keras.datasets.mnist.load_data()\n",
        "XX_train = X_train[10000:11000]\n",
        "YY_train = Y_train[10000:11000]\n",
        "X_train = X_train[:10000]\n",
        "Y_train = Y_train[:10000]\n",
        "XX_test = X_test[300:600]\n",
        "YY_test = Y_test[300:600]\n",
        "X_test = X_test[:300]\n",
        "Y_test = Y_test[:300]"
      ],
      "metadata": {
        "id": "ZpFvk-EamA1W",
        "colab": {
          "base_uri": "https://localhost:8080/"
        },
        "outputId": "13a6c1b5-b882-455e-a14f-f6fb430f8449"
      },
      "execution_count": null,
      "outputs": [
        {
          "output_type": "stream",
          "name": "stdout",
          "text": [
            "Downloading data from https://storage.googleapis.com/tensorflow/tf-keras-datasets/mnist.npz\n",
            "11490434/11490434 [==============================] - 0s 0us/step\n"
          ]
        }
      ]
    },
    {
      "cell_type": "code",
      "source": [
        "Y_train"
      ],
      "metadata": {
        "id": "KyjENdDdXjyX",
        "colab": {
          "base_uri": "https://localhost:8080/"
        },
        "outputId": "82eb6e67-bc6d-4257-c92a-85b943d67b38"
      },
      "execution_count": null,
      "outputs": [
        {
          "output_type": "execute_result",
          "data": {
            "text/plain": [
              "array([5, 0, 4, ..., 6, 9, 7], dtype=uint8)"
            ]
          },
          "metadata": {},
          "execution_count": 3
        }
      ]
    },
    {
      "cell_type": "code",
      "source": [
        "print('shape of x_train:', X_train.shape)\n",
        "print('shape of y_train:', Y_train.shape)\n",
        "print('shape of xx_train:', XX_train.shape)\n",
        "print('shape of yy_train:', YY_train.shape)\n",
        "print('shape of x_test:', X_test.shape)\n",
        "print('shape of y_test:', Y_test.shape)\n",
        "print('shape of xx_test:', XX_test.shape)\n",
        "print('shape of yy_test:', YY_test.shape)"
      ],
      "metadata": {
        "id": "XVbUx-QpG3m9",
        "colab": {
          "base_uri": "https://localhost:8080/"
        },
        "outputId": "c20312e3-3ec7-4702-99fb-f9b11dc8dcb6"
      },
      "execution_count": null,
      "outputs": [
        {
          "output_type": "stream",
          "name": "stdout",
          "text": [
            "shape of x_train: (10000, 28, 28)\n",
            "shape of y_train: (10000,)\n",
            "shape of xx_train: (1000, 28, 28)\n",
            "shape of yy_train: (1000,)\n",
            "shape of x_test: (300, 28, 28)\n",
            "shape of y_test: (300,)\n",
            "shape of xx_test: (300, 28, 28)\n",
            "shape of yy_test: (300,)\n"
          ]
        }
      ]
    },
    {
      "cell_type": "code",
      "source": [
        "YY_test"
      ],
      "metadata": {
        "id": "Nao53k5sT7aP",
        "outputId": "08ed93bb-f1e6-49be-ae13-8a9aa24b0ccd",
        "colab": {
          "base_uri": "https://localhost:8080/"
        }
      },
      "execution_count": null,
      "outputs": [
        {
          "output_type": "execute_result",
          "data": {
            "text/plain": [
              "<tf.Tensor: shape=(300, 10), dtype=float32, numpy=\n",
              "array([[0., 0., 0., ..., 0., 0., 0.],\n",
              "       [0., 0., 0., ..., 1., 0., 0.],\n",
              "       [0., 1., 0., ..., 0., 0., 0.],\n",
              "       ...,\n",
              "       [1., 0., 0., ..., 0., 0., 0.],\n",
              "       [0., 0., 0., ..., 0., 0., 1.],\n",
              "       [0., 0., 0., ..., 0., 0., 1.]], dtype=float32)>"
            ]
          },
          "metadata": {},
          "execution_count": 36
        }
      ]
    },
    {
      "cell_type": "markdown",
      "source": [
        "## Build RotNet for Pretext Task\n",
        "\n",
        "### Dataset for Pretext Task (Rotation)\n",
        "Need to generate rotated images and their labels to train the model for pretext task\n",
        "\n",
        "[1, 0, 0, 0]: 0 degree rotation\n",
        "\n",
        "[0, 1, 0, 0]; 90 degree rotation\n",
        "\n",
        "[0, 0, 1, 0]: 180 degree rotation\n",
        "\n",
        "[0, 0, 0, 1]; 270 degree rotation"
      ],
      "metadata": {
        "id": "VPgGapDWVuMS"
      }
    },
    {
      "cell_type": "code",
      "source": [
        "tf.one_hot([0], depth = 4)"
      ],
      "metadata": {
        "colab": {
          "base_uri": "https://localhost:8080/"
        },
        "id": "UqOxr70ST2HM",
        "outputId": "3c4f0026-1090-4fc2-aff0-1f510d626b97"
      },
      "execution_count": null,
      "outputs": [
        {
          "output_type": "execute_result",
          "data": {
            "text/plain": [
              "<tf.Tensor: shape=(1, 4), dtype=float32, numpy=array([[1., 0., 0., 0.]], dtype=float32)>"
            ]
          },
          "metadata": {},
          "execution_count": 34
        }
      ]
    },
    {
      "cell_type": "code",
      "source": [
        "tf.one_hot([3], depth = 4)"
      ],
      "metadata": {
        "colab": {
          "base_uri": "https://localhost:8080/"
        },
        "id": "vitUpIaYT34J",
        "outputId": "b5556c5d-6285-4faf-d579-7c657dae95ce"
      },
      "execution_count": null,
      "outputs": [
        {
          "output_type": "execute_result",
          "data": {
            "text/plain": [
              "<tf.Tensor: shape=(1, 4), dtype=float32, numpy=array([[0., 0., 0., 1.]], dtype=float32)>"
            ]
          },
          "metadata": {},
          "execution_count": 35
        }
      ]
    },
    {
      "cell_type": "code",
      "source": [
        "n_samples = X_train.shape[0]\n",
        "X_rotate = np.zeros(shape = (n_samples*4,\n",
        "                             X_train.shape[1],\n",
        "                             X_train.shape[2]))\n",
        "Y_rotate = np.zeros(shape = (n_samples*4, 4))\n",
        "\n",
        "for i in range(n_samples):\n",
        "    img = X_train[i]\n",
        "    X_rotate[4*i-4] = img\n",
        "    Y_rotate[4*i-4] = tf.one_hot([0], depth = 4)\n",
        "\n",
        "    # 90 degrees rotation\n",
        "    X_rotate[4*i-3] = np.rot90(img, k = 1)\n",
        "    Y_rotate[4*i-3] = tf.one_hot([1], depth = 4)\n",
        "\n",
        "    # 180 degrees rotation\n",
        "    X_rotate[4*i-2] = np.rot90(img, k = 2)\n",
        "    Y_rotate[4*i-2] = tf.one_hot([2], depth = 4)\n",
        "\n",
        "    # 270 degrees rotation\n",
        "    X_rotate[4*i-1] = np.rot90(img, k = 3)\n",
        "    Y_rotate[4*i-1] = tf.one_hot([3], depth = 4)"
      ],
      "metadata": {
        "id": "AtI01mgr_95f"
      },
      "execution_count": null,
      "outputs": []
    },
    {
      "cell_type": "markdown",
      "source": [
        "## Plot Dataset for Pretext Task (Rotation)"
      ],
      "metadata": {
        "id": "t5SSCuO18-Jn"
      }
    },
    {
      "cell_type": "code",
      "source": [
        "plt.subplots(figsize = (10, 10))\n",
        "\n",
        "plt.subplot(141)\n",
        "plt.imshow(X_rotate[12], cmap = 'gray')\n",
        "plt.axis('off')\n",
        "\n",
        "plt.subplot(142)\n",
        "plt.imshow(X_rotate[13], cmap = 'gray')\n",
        "plt.axis('off')\n",
        "\n",
        "plt.subplot(143)\n",
        "plt.imshow(X_rotate[14], cmap = 'gray')\n",
        "plt.axis('off')\n",
        "\n",
        "plt.subplot(144)\n",
        "plt.imshow(X_rotate[15], cmap = 'gray')\n",
        "plt.axis('off')\n",
        "\n",
        "X_rotate = X_rotate.reshape(-1,28,28,1)\n"
      ],
      "metadata": {
        "id": "AgCf_1fj88iW",
        "colab": {
          "base_uri": "https://localhost:8080/",
          "height": 261
        },
        "outputId": "a21ef0a4-4ca8-418e-c632-3f948e7547f3"
      },
      "execution_count": null,
      "outputs": [
        {
          "output_type": "stream",
          "name": "stderr",
          "text": [
            "<ipython-input-6-5d3354d337ee>:3: MatplotlibDeprecationWarning: Auto-removal of overlapping axes is deprecated since 3.6 and will be removed two minor releases later; explicitly call ax.remove() as needed.\n",
            "  plt.subplot(141)\n"
          ]
        },
        {
          "output_type": "display_data",
          "data": {
            "text/plain": [
              "<Figure size 1000x1000 with 4 Axes>"
            ],
            "image/png": "[encoded data removed]"
          },
          "metadata": {}
        }
      ]
    },
    {
      "cell_type": "markdown",
      "source": [
        "## Build Model for Pretext Task (Rotation)\n",
        "\n"
      ],
      "metadata": {
        "id": "4Agrk6BQbmSq"
      }
    },
    {
      "cell_type": "code",
      "source": [
        "model_pretext = tf.keras.models.Sequential([\n",
        "    tf.keras.layers.Conv2D(filters = 64,\n",
        "                           kernel_size = (3,3),\n",
        "                           strides = (2,2),\n",
        "                           activation = 'relu',\n",
        "                           padding = 'SAME',\n",
        "                           input_shape = (28, 28, 1)),\n",
        "\n",
        "    tf.keras.layers.MaxPool2D(pool_size = (2, 2),\n",
        "                              strides = (2, 2)),\n",
        "\n",
        "    tf.keras.layers.Conv2D(filters = 32,\n",
        "                           kernel_size = (3,3),\n",
        "                           strides = (1,1),\n",
        "                           activation = 'relu',\n",
        "                           padding = 'SAME',\n",
        "                           input_shape = (7, 7, 64)),\n",
        "\n",
        "    tf.keras.layers.MaxPool2D(pool_size = (2, 2),\n",
        "                              strides = (2, 2)),\n",
        "\n",
        "    tf.keras.layers.Conv2D(filters = 16,\n",
        "                           kernel_size = (3,3),\n",
        "                           strides = (2,2),\n",
        "                           activation = 'relu',\n",
        "                           padding = 'SAME',\n",
        "                           input_shape = (3, 3, 32)),\n",
        "\n",
        "    tf.keras.layers.Flatten(),\n",
        "\n",
        "    tf.keras.layers.Dense(units = 4, activation = 'softmax')\n",
        "\n",
        "])\n",
        "model_pretext.summary()"
      ],
      "metadata": {
        "id": "zAPTkRthk7uW",
        "colab": {
          "base_uri": "https://localhost:8080/"
        },
        "outputId": "79cadb9c-dd31-48c0-ffa2-2a11fbd17685"
      },
      "execution_count": null,
      "outputs": [
        {
          "output_type": "stream",
          "name": "stdout",
          "text": [
            "Model: \"sequential_1\"\n",
            "_________________________________________________________________\n",
            " Layer (type)                Output Shape              Param #   \n",
            "=================================================================\n",
            " conv2d_3 (Conv2D)           (None, 14, 14, 64)        640       \n",
            "                                                                 \n",
            " max_pooling2d_2 (MaxPoolin  (None, 7, 7, 64)          0         \n",
            " g2D)                                                            \n",
            "                                                                 \n",
            " conv2d_4 (Conv2D)           (None, 7, 7, 32)          18464     \n",
            "                                                                 \n",
            " max_pooling2d_3 (MaxPoolin  (None, 3, 3, 32)          0         \n",
            " g2D)                                                            \n",
            "                                                                 \n",
            " conv2d_5 (Conv2D)           (None, 2, 2, 16)          4624      \n",
            "                                                                 \n",
            " flatten_1 (Flatten)         (None, 64)                0         \n",
            "                                                                 \n",
            " dense_1 (Dense)             (None, 4)                 260       \n",
            "                                                                 \n",
            "=================================================================\n",
            "Total params: 23988 (93.70 KB)\n",
            "Trainable params: 23988 (93.70 KB)\n",
            "Non-trainable params: 0 (0.00 Byte)\n",
            "_________________________________________________________________\n"
          ]
        }
      ]
    },
    {
      "cell_type": "markdown",
      "source": [
        "## Training the model for the pretext task\n"
      ],
      "metadata": {
        "id": "ywuAV_D83bQC"
      }
    },
    {
      "cell_type": "code",
      "source": [
        "model_pretext.compile(optimizer = 'adam',\n",
        "                      loss = 'categorical_crossentropy',\n",
        "                      metrics = 'accuracy')\n",
        "\n",
        "model_pretext.fit(X_rotate,\n",
        "                  Y_rotate,\n",
        "                  batch_size = 192,\n",
        "                  epochs = 50,\n",
        "                  verbose = 2,\n",
        "                  shuffle = False)"
      ],
      "metadata": {
        "id": "s8MvxukJk52T",
        "colab": {
          "base_uri": "https://localhost:8080/"
        },
        "outputId": "0ae6a9d0-4d84-4c70-8511-d04a050ae640"
      },
      "execution_count": null,
      "outputs": [
        {
          "output_type": "stream",
          "name": "stdout",
          "text": [
            "Epoch 1/50\n",
            "209/209 - 6s - loss: 0.7540 - accuracy: 0.8119 - 6s/epoch - 27ms/step\n",
            "Epoch 2/50\n",
            "209/209 - 1s - loss: 0.1775 - accuracy: 0.9402 - 905ms/epoch - 4ms/step\n",
            "Epoch 3/50\n",
            "209/209 - 1s - loss: 0.1236 - accuracy: 0.9565 - 853ms/epoch - 4ms/step\n",
            "Epoch 4/50\n",
            "209/209 - 1s - loss: 0.0876 - accuracy: 0.9688 - 935ms/epoch - 4ms/step\n",
            "Epoch 5/50\n",
            "209/209 - 1s - loss: 0.0714 - accuracy: 0.9747 - 912ms/epoch - 4ms/step\n",
            "Epoch 6/50\n",
            "209/209 - 1s - loss: 0.0599 - accuracy: 0.9792 - 757ms/epoch - 4ms/step\n",
            "Epoch 7/50\n",
            "209/209 - 1s - loss: 0.0603 - accuracy: 0.9787 - 875ms/epoch - 4ms/step\n",
            "Epoch 8/50\n",
            "209/209 - 1s - loss: 0.0497 - accuracy: 0.9826 - 1s/epoch - 5ms/step\n",
            "Epoch 9/50\n",
            "209/209 - 1s - loss: 0.0593 - accuracy: 0.9782 - 674ms/epoch - 3ms/step\n",
            "Epoch 10/50\n",
            "209/209 - 1s - loss: 0.0581 - accuracy: 0.9791 - 687ms/epoch - 3ms/step\n",
            "Epoch 11/50\n",
            "209/209 - 1s - loss: 0.0395 - accuracy: 0.9857 - 673ms/epoch - 3ms/step\n",
            "Epoch 12/50\n",
            "209/209 - 1s - loss: 0.0372 - accuracy: 0.9866 - 665ms/epoch - 3ms/step\n",
            "Epoch 13/50\n",
            "209/209 - 1s - loss: 0.0377 - accuracy: 0.9866 - 673ms/epoch - 3ms/step\n",
            "Epoch 14/50\n",
            "209/209 - 1s - loss: 0.0403 - accuracy: 0.9847 - 950ms/epoch - 5ms/step\n",
            "Epoch 15/50\n",
            "209/209 - 1s - loss: 0.0353 - accuracy: 0.9873 - 690ms/epoch - 3ms/step\n",
            "Epoch 16/50\n",
            "209/209 - 1s - loss: 0.0294 - accuracy: 0.9891 - 672ms/epoch - 3ms/step\n",
            "Epoch 17/50\n",
            "209/209 - 1s - loss: 0.0325 - accuracy: 0.9879 - 684ms/epoch - 3ms/step\n",
            "Epoch 18/50\n",
            "209/209 - 1s - loss: 0.0243 - accuracy: 0.9909 - 737ms/epoch - 4ms/step\n",
            "Epoch 19/50\n",
            "209/209 - 1s - loss: 0.0246 - accuracy: 0.9901 - 1s/epoch - 7ms/step\n",
            "Epoch 20/50\n",
            "209/209 - 1s - loss: 0.0232 - accuracy: 0.9913 - 1s/epoch - 6ms/step\n",
            "Epoch 21/50\n",
            "209/209 - 1s - loss: 0.0227 - accuracy: 0.9917 - 727ms/epoch - 3ms/step\n",
            "Epoch 22/50\n",
            "209/209 - 1s - loss: 0.0228 - accuracy: 0.9909 - 672ms/epoch - 3ms/step\n",
            "Epoch 23/50\n",
            "209/209 - 1s - loss: 0.0162 - accuracy: 0.9938 - 818ms/epoch - 4ms/step\n",
            "Epoch 24/50\n",
            "209/209 - 1s - loss: 0.0258 - accuracy: 0.9908 - 667ms/epoch - 3ms/step\n",
            "Epoch 25/50\n",
            "209/209 - 1s - loss: 0.0270 - accuracy: 0.9906 - 672ms/epoch - 3ms/step\n",
            "Epoch 26/50\n",
            "209/209 - 1s - loss: 0.0309 - accuracy: 0.9893 - 675ms/epoch - 3ms/step\n",
            "Epoch 27/50\n",
            "209/209 - 1s - loss: 0.0248 - accuracy: 0.9910 - 693ms/epoch - 3ms/step\n",
            "Epoch 28/50\n",
            "209/209 - 1s - loss: 0.0193 - accuracy: 0.9932 - 690ms/epoch - 3ms/step\n",
            "Epoch 29/50\n",
            "209/209 - 1s - loss: 0.0180 - accuracy: 0.9937 - 671ms/epoch - 3ms/step\n",
            "Epoch 30/50\n",
            "209/209 - 1s - loss: 0.0235 - accuracy: 0.9917 - 693ms/epoch - 3ms/step\n",
            "Epoch 31/50\n",
            "209/209 - 1s - loss: 0.0235 - accuracy: 0.9918 - 688ms/epoch - 3ms/step\n",
            "Epoch 32/50\n",
            "209/209 - 1s - loss: 0.0253 - accuracy: 0.9917 - 663ms/epoch - 3ms/step\n",
            "Epoch 33/50\n",
            "209/209 - 1s - loss: 0.0284 - accuracy: 0.9905 - 673ms/epoch - 3ms/step\n",
            "Epoch 34/50\n",
            "209/209 - 1s - loss: 0.0190 - accuracy: 0.9936 - 661ms/epoch - 3ms/step\n",
            "Epoch 35/50\n",
            "209/209 - 1s - loss: 0.0139 - accuracy: 0.9957 - 857ms/epoch - 4ms/step\n",
            "Epoch 36/50\n",
            "209/209 - 1s - loss: 0.0176 - accuracy: 0.9941 - 905ms/epoch - 4ms/step\n",
            "Epoch 37/50\n",
            "209/209 - 1s - loss: 0.0125 - accuracy: 0.9952 - 962ms/epoch - 5ms/step\n",
            "Epoch 38/50\n",
            "209/209 - 1s - loss: 0.0147 - accuracy: 0.9951 - 685ms/epoch - 3ms/step\n",
            "Epoch 39/50\n",
            "209/209 - 1s - loss: 0.0142 - accuracy: 0.9955 - 680ms/epoch - 3ms/step\n",
            "Epoch 40/50\n",
            "209/209 - 1s - loss: 0.0233 - accuracy: 0.9923 - 669ms/epoch - 3ms/step\n",
            "Epoch 41/50\n",
            "209/209 - 1s - loss: 0.0136 - accuracy: 0.9950 - 671ms/epoch - 3ms/step\n",
            "Epoch 42/50\n",
            "209/209 - 1s - loss: 0.0171 - accuracy: 0.9945 - 677ms/epoch - 3ms/step\n",
            "Epoch 43/50\n",
            "209/209 - 1s - loss: 0.0199 - accuracy: 0.9941 - 665ms/epoch - 3ms/step\n",
            "Epoch 44/50\n",
            "209/209 - 1s - loss: 0.0186 - accuracy: 0.9938 - 674ms/epoch - 3ms/step\n",
            "Epoch 45/50\n",
            "209/209 - 1s - loss: 0.0140 - accuracy: 0.9953 - 685ms/epoch - 3ms/step\n",
            "Epoch 46/50\n",
            "209/209 - 1s - loss: 0.0151 - accuracy: 0.9951 - 665ms/epoch - 3ms/step\n",
            "Epoch 47/50\n",
            "209/209 - 1s - loss: 0.0127 - accuracy: 0.9958 - 673ms/epoch - 3ms/step\n",
            "Epoch 48/50\n",
            "209/209 - 1s - loss: 0.0173 - accuracy: 0.9944 - 667ms/epoch - 3ms/step\n",
            "Epoch 49/50\n",
            "209/209 - 1s - loss: 0.0172 - accuracy: 0.9946 - 688ms/epoch - 3ms/step\n",
            "Epoch 50/50\n",
            "209/209 - 1s - loss: 0.0173 - accuracy: 0.9948 - 708ms/epoch - 3ms/step\n"
          ]
        },
        {
          "output_type": "execute_result",
          "data": {
            "text/plain": [
              "<keras.src.callbacks.History at 0x7effa02a85e0>"
            ]
          },
          "metadata": {},
          "execution_count": 9
        }
      ]
    },
    {
      "cell_type": "markdown",
      "source": [
        "#  Build Downstream Task (MNIST Image Classification)\n",
        "Freezing trained parameters to transfer them for the downstream task\n"
      ],
      "metadata": {
        "id": "-_NJhDd2oAvz"
      }
    },
    {
      "cell_type": "code",
      "source": [
        "model_pretext.trainable = False\n"
      ],
      "metadata": {
        "id": "DeGEj2V9t2z7"
      },
      "execution_count": null,
      "outputs": []
    },
    {
      "cell_type": "markdown",
      "source": [
        "## Reshape Dataset\n",
        "\n"
      ],
      "metadata": {
        "id": "vnhOM1XpoFjW"
      }
    },
    {
      "cell_type": "code",
      "source": [
        "XX_train = XX_train.reshape(-1,28,28,1)\n",
        "XX_test = XX_test.reshape(-1,28,28,1)\n",
        "YY_train = tf.one_hot(YY_train, 10, on_value = 1.0, off_value = 0.0)\n",
        "YY_test = tf.one_hot(YY_test, 10, on_value = 1.0, off_value = 0.0)"
      ],
      "metadata": {
        "id": "S9bZ9Np2oCUb"
      },
      "execution_count": null,
      "outputs": []
    },
    {
      "cell_type": "markdown",
      "source": [
        "## Build Model\n",
        "\n",
        "### Model: two convolution layers and one fully connected layer\n",
        "\n",
        "Two convolution layers are transferred from the model for the pretext task\n",
        "\n",
        "Single fully connected layer is trained only"
      ],
      "metadata": {
        "id": "rGokNqw8rXa6"
      }
    },
    {
      "cell_type": "code",
      "source": [
        "model_pretext.summary()"
      ],
      "metadata": {
        "colab": {
          "base_uri": "https://localhost:8080/"
        },
        "id": "zpEWN6FbRRjX",
        "outputId": "1aec8cc9-63fc-47c6-bd41-02f50b22a8f5"
      },
      "execution_count": null,
      "outputs": [
        {
          "output_type": "stream",
          "name": "stdout",
          "text": [
            "Model: \"sequential_1\"\n",
            "_________________________________________________________________\n",
            " Layer (type)                Output Shape              Param #   \n",
            "=================================================================\n",
            " conv2d_3 (Conv2D)           (None, 14, 14, 64)        640       \n",
            "                                                                 \n",
            " max_pooling2d_2 (MaxPoolin  (None, 7, 7, 64)          0         \n",
            " g2D)                                                            \n",
            "                                                                 \n",
            " conv2d_4 (Conv2D)           (None, 7, 7, 32)          18464     \n",
            "                                                                 \n",
            " max_pooling2d_3 (MaxPoolin  (None, 3, 3, 32)          0         \n",
            " g2D)                                                            \n",
            "                                                                 \n",
            " conv2d_5 (Conv2D)           (None, 2, 2, 16)          4624      \n",
            "                                                                 \n",
            " flatten_1 (Flatten)         (None, 64)                0         \n",
            "                                                                 \n",
            " dense_1 (Dense)             (None, 4)                 260       \n",
            "                                                                 \n",
            "=================================================================\n",
            "Total params: 23988 (93.70 KB)\n",
            "Trainable params: 0 (0.00 Byte)\n",
            "Non-trainable params: 23988 (93.70 KB)\n",
            "_________________________________________________________________\n"
          ]
        }
      ]
    },
    {
      "cell_type": "code",
      "source": [
        "model_pretext.get_layer(index = 0), model_pretext.get_layer(index = 1), \\\n",
        "model_pretext.get_layer(index = 2), model_pretext.get_layer(index = 3)"
      ],
      "metadata": {
        "id": "3wv8CUDkYDa9",
        "colab": {
          "base_uri": "https://localhost:8080/"
        },
        "outputId": "6e196206-3581-4b9d-8499-437c900a2c9b"
      },
      "execution_count": null,
      "outputs": [
        {
          "output_type": "execute_result",
          "data": {
            "text/plain": [
              "(<keras.src.layers.convolutional.conv2d.Conv2D at 0x7effaaf03970>,\n",
              " <keras.src.layers.pooling.max_pooling2d.MaxPooling2D at 0x7effaaf03fd0>,\n",
              " <keras.src.layers.convolutional.conv2d.Conv2D at 0x7effaaf03e80>,\n",
              " <keras.src.layers.pooling.max_pooling2d.MaxPooling2D at 0x7effa0267d60>)"
            ]
          },
          "metadata": {},
          "execution_count": 12
        }
      ]
    },
    {
      "cell_type": "code",
      "source": [
        "model_downstream = tf.keras.models.Sequential([\n",
        "    model_pretext.get_layer(index = 0),\n",
        "    model_pretext.get_layer(index = 1),\n",
        "    model_pretext.get_layer(index = 2),\n",
        "    model_pretext.get_layer(index = 3),\n",
        "\n",
        "    tf.keras.layers.Flatten(),\n",
        "    tf.keras.layers.Dense(units = 10, activation = 'softmax')\n",
        "])\n",
        "\n",
        "model_downstream.summary()"
      ],
      "metadata": {
        "id": "tIlHOvK_oKd1",
        "colab": {
          "base_uri": "https://localhost:8080/"
        },
        "outputId": "c45812cd-58eb-40ee-a8a4-da3da96a9a73"
      },
      "execution_count": null,
      "outputs": [
        {
          "output_type": "stream",
          "name": "stdout",
          "text": [
            "Model: \"sequential_2\"\n",
            "_________________________________________________________________\n",
            " Layer (type)                Output Shape              Param #   \n",
            "=================================================================\n",
            " conv2d_3 (Conv2D)           (None, 14, 14, 64)        640       \n",
            "                                                                 \n",
            " max_pooling2d_2 (MaxPoolin  (None, 7, 7, 64)          0         \n",
            " g2D)                                                            \n",
            "                                                                 \n",
            " conv2d_4 (Conv2D)           (None, 7, 7, 32)          18464     \n",
            "                                                                 \n",
            " max_pooling2d_3 (MaxPoolin  (None, 3, 3, 32)          0         \n",
            " g2D)                                                            \n",
            "                                                                 \n",
            " flatten_2 (Flatten)         (None, 288)               0         \n",
            "                                                                 \n",
            " dense_2 (Dense)             (None, 10)                2890      \n",
            "                                                                 \n",
            "=================================================================\n",
            "Total params: 21994 (85.91 KB)\n",
            "Trainable params: 2890 (11.29 KB)\n",
            "Non-trainable params: 19104 (74.62 KB)\n",
            "_________________________________________________________________\n"
          ]
        }
      ]
    },
    {
      "cell_type": "markdown",
      "source": [
        "Only use (1, 5, 6) digits to visualize latent space in 2-D"
      ],
      "metadata": {
        "id": "AqXZ4yZkrllO"
      }
    },
    {
      "cell_type": "code",
      "source": [
        "model_downstream.compile(optimizer = tf.keras.optimizers.SGD(learning_rate = 0.001,momentum = 0.9),\n",
        "                         loss = 'categorical_crossentropy',\n",
        "                         metrics = 'accuracy')\n",
        "\n",
        "model_downstream.fit(XX_train,\n",
        "                     YY_train,\n",
        "                     batch_size = 64,\n",
        "                     validation_split = 0.2,\n",
        "                     epochs = 50,\n",
        "                     verbose = 2,\n",
        "                     callbacks = tf.keras.callbacks.EarlyStopping(monitor = 'accuracy', patience = 7))"
      ],
      "metadata": {
        "id": "Hyr7DvivrWPY",
        "colab": {
          "base_uri": "https://localhost:8080/"
        },
        "outputId": "ddafbdc0-50cf-4122-c0a4-b0a98958958a"
      },
      "execution_count": null,
      "outputs": [
        {
          "output_type": "stream",
          "name": "stdout",
          "text": [
            "Epoch 1/50\n",
            "13/13 - 1s - loss: 244.8783 - accuracy: 0.1863 - val_loss: 280.7509 - val_accuracy: 0.2100 - 866ms/epoch - 67ms/step\n",
            "Epoch 2/50\n",
            "13/13 - 0s - loss: 189.5958 - accuracy: 0.3900 - val_loss: 156.2193 - val_accuracy: 0.3800 - 62ms/epoch - 5ms/step\n",
            "Epoch 3/50\n",
            "13/13 - 0s - loss: 71.0608 - accuracy: 0.6025 - val_loss: 40.6027 - val_accuracy: 0.6650 - 61ms/epoch - 5ms/step\n",
            "Epoch 4/50\n",
            "13/13 - 0s - loss: 18.9367 - accuracy: 0.8000 - val_loss: 14.5440 - val_accuracy: 0.8800 - 58ms/epoch - 4ms/step\n",
            "Epoch 5/50\n",
            "13/13 - 0s - loss: 9.6877 - accuracy: 0.8675 - val_loss: 14.2533 - val_accuracy: 0.8550 - 69ms/epoch - 5ms/step\n",
            "Epoch 6/50\n",
            "13/13 - 0s - loss: 10.2466 - accuracy: 0.8537 - val_loss: 16.0798 - val_accuracy: 0.8400 - 57ms/epoch - 4ms/step\n",
            "Epoch 7/50\n",
            "13/13 - 0s - loss: 9.7658 - accuracy: 0.8525 - val_loss: 16.4630 - val_accuracy: 0.8500 - 57ms/epoch - 4ms/step\n",
            "Epoch 8/50\n",
            "13/13 - 0s - loss: 9.4948 - accuracy: 0.8537 - val_loss: 14.7292 - val_accuracy: 0.8550 - 58ms/epoch - 4ms/step\n",
            "Epoch 9/50\n",
            "13/13 - 0s - loss: 4.9679 - accuracy: 0.9112 - val_loss: 9.3055 - val_accuracy: 0.9250 - 60ms/epoch - 5ms/step\n",
            "Epoch 10/50\n",
            "13/13 - 0s - loss: 2.3554 - accuracy: 0.9550 - val_loss: 9.5370 - val_accuracy: 0.9200 - 59ms/epoch - 5ms/step\n",
            "Epoch 11/50\n",
            "13/13 - 0s - loss: 3.0235 - accuracy: 0.9375 - val_loss: 9.6153 - val_accuracy: 0.8950 - 73ms/epoch - 6ms/step\n",
            "Epoch 12/50\n",
            "13/13 - 0s - loss: 2.2195 - accuracy: 0.9588 - val_loss: 10.9702 - val_accuracy: 0.8750 - 80ms/epoch - 6ms/step\n",
            "Epoch 13/50\n",
            "13/13 - 0s - loss: 2.3411 - accuracy: 0.9488 - val_loss: 10.6303 - val_accuracy: 0.8900 - 72ms/epoch - 6ms/step\n",
            "Epoch 14/50\n",
            "13/13 - 0s - loss: 1.5597 - accuracy: 0.9625 - val_loss: 8.0784 - val_accuracy: 0.9000 - 59ms/epoch - 5ms/step\n",
            "Epoch 15/50\n",
            "13/13 - 0s - loss: 1.2515 - accuracy: 0.9600 - val_loss: 9.7956 - val_accuracy: 0.8950 - 60ms/epoch - 5ms/step\n",
            "Epoch 16/50\n",
            "13/13 - 0s - loss: 1.1143 - accuracy: 0.9712 - val_loss: 9.1367 - val_accuracy: 0.9150 - 70ms/epoch - 5ms/step\n",
            "Epoch 17/50\n",
            "13/13 - 0s - loss: 0.8150 - accuracy: 0.9712 - val_loss: 9.1495 - val_accuracy: 0.9050 - 60ms/epoch - 5ms/step\n",
            "Epoch 18/50\n",
            "13/13 - 0s - loss: 0.8835 - accuracy: 0.9725 - val_loss: 8.6577 - val_accuracy: 0.9100 - 64ms/epoch - 5ms/step\n",
            "Epoch 19/50\n",
            "13/13 - 0s - loss: 0.5161 - accuracy: 0.9787 - val_loss: 8.0312 - val_accuracy: 0.9350 - 61ms/epoch - 5ms/step\n",
            "Epoch 20/50\n",
            "13/13 - 0s - loss: 1.0749 - accuracy: 0.9650 - val_loss: 8.6158 - val_accuracy: 0.9100 - 59ms/epoch - 5ms/step\n",
            "Epoch 21/50\n",
            "13/13 - 0s - loss: 0.5242 - accuracy: 0.9712 - val_loss: 8.8939 - val_accuracy: 0.9150 - 59ms/epoch - 5ms/step\n",
            "Epoch 22/50\n",
            "13/13 - 0s - loss: 0.6152 - accuracy: 0.9775 - val_loss: 7.9205 - val_accuracy: 0.9300 - 69ms/epoch - 5ms/step\n",
            "Epoch 23/50\n",
            "13/13 - 0s - loss: 0.3356 - accuracy: 0.9862 - val_loss: 6.9288 - val_accuracy: 0.9350 - 69ms/epoch - 5ms/step\n",
            "Epoch 24/50\n",
            "13/13 - 0s - loss: 0.2263 - accuracy: 0.9912 - val_loss: 8.3044 - val_accuracy: 0.9000 - 61ms/epoch - 5ms/step\n",
            "Epoch 25/50\n",
            "13/13 - 0s - loss: 0.4938 - accuracy: 0.9787 - val_loss: 7.9471 - val_accuracy: 0.9300 - 57ms/epoch - 4ms/step\n",
            "Epoch 26/50\n",
            "13/13 - 0s - loss: 0.4128 - accuracy: 0.9837 - val_loss: 10.2141 - val_accuracy: 0.9050 - 59ms/epoch - 5ms/step\n",
            "Epoch 27/50\n",
            "13/13 - 0s - loss: 0.7004 - accuracy: 0.9750 - val_loss: 9.3599 - val_accuracy: 0.8900 - 66ms/epoch - 5ms/step\n",
            "Epoch 28/50\n",
            "13/13 - 0s - loss: 0.4057 - accuracy: 0.9862 - val_loss: 7.4654 - val_accuracy: 0.9300 - 72ms/epoch - 6ms/step\n",
            "Epoch 29/50\n",
            "13/13 - 0s - loss: 0.1396 - accuracy: 0.9900 - val_loss: 7.6552 - val_accuracy: 0.9100 - 59ms/epoch - 5ms/step\n",
            "Epoch 30/50\n",
            "13/13 - 0s - loss: 0.1549 - accuracy: 0.9862 - val_loss: 8.7616 - val_accuracy: 0.9250 - 72ms/epoch - 6ms/step\n",
            "Epoch 31/50\n",
            "13/13 - 0s - loss: 0.5850 - accuracy: 0.9762 - val_loss: 9.4815 - val_accuracy: 0.9000 - 65ms/epoch - 5ms/step\n"
          ]
        },
        {
          "output_type": "execute_result",
          "data": {
            "text/plain": [
              "<keras.src.callbacks.History at 0x7eff325c1930>"
            ]
          },
          "metadata": {},
          "execution_count": 16
        }
      ]
    },
    {
      "cell_type": "markdown",
      "source": [
        "## Downstream Task Trained Result (Image Classification Result)\n",
        "\n",
        "\n"
      ],
      "metadata": {
        "id": "vsNkhupYrq-z"
      }
    },
    {
      "cell_type": "code",
      "source": [
        "name = ['0', '1', '2', '3', '4', '5','6', '7', '8', '9']\n",
        "idx = 9\n",
        "img = XX_test[idx].reshape(-1,28,28,1)\n",
        "label = YY_test[idx]\n",
        "predict = model_downstream.predict(img)\n",
        "mypred = np.argmax(predict, axis = 1)\n",
        "\n",
        "plt.figure(figsize = (12,5))\n",
        "plt.subplot(1,2,1)\n",
        "plt.imshow(img.reshape(28, 28), 'gray')\n",
        "plt.axis('off')\n",
        "plt.subplot(1,2,2)\n",
        "plt.stem(predict[0])\n",
        "plt.show()\n",
        "\n",
        "print('Prediction : {}'.format(name[mypred[0]]))"
      ],
      "metadata": {
        "id": "y3KpBQJ6rruj",
        "colab": {
          "base_uri": "https://localhost:8080/",
          "height": 481
        },
        "outputId": "4ed107c0-bc67-4eb2-dd81-e673f24512cb"
      },
      "execution_count": null,
      "outputs": [
        {
          "output_type": "stream",
          "name": "stdout",
          "text": [
            "1/1 [==============================] - 0s 18ms/step\n"
          ]
        },
        {
          "output_type": "display_data",
          "data": {
            "text/plain": [
              "<Figure size 1200x500 with 2 Axes>"
            ],
            "image/png": "[encoded data removed]"
          },
          "metadata": {}
        },
        {
          "output_type": "stream",
          "name": "stdout",
          "text": [
            "Prediction : 3\n"
          ]
        }
      ]
    },
    {
      "cell_type": "code",
      "source": [
        "predict"
      ],
      "metadata": {
        "colab": {
          "base_uri": "https://localhost:8080/"
        },
        "id": "qCVEBAwgR0eh",
        "outputId": "9f813d5f-5932-460e-fdb3-af9c043e39d0"
      },
      "execution_count": null,
      "outputs": [
        {
          "output_type": "execute_result",
          "data": {
            "text/plain": [
              "array([[0., 0., 0., 1., 0., 0., 0., 0., 0., 0.]], dtype=float32)"
            ]
          },
          "metadata": {},
          "execution_count": 21
        }
      ]
    },
    {
      "cell_type": "markdown",
      "source": [
        "# Supervised Model for Comparison\n",
        "Convolution Neural Networks for MNIST image classification\n",
        "Model: Same model architecture with the model for the downstream task\n",
        "The number of total parameter is the same with the model for the downstream task, but is has zero non-trainable parameters"
      ],
      "metadata": {
        "id": "_gIGym-LrwKZ"
      }
    },
    {
      "cell_type": "code",
      "source": [
        "model_sup = tf.keras.models.Sequential([\n",
        "    tf.keras.layers.Conv2D(filters = 64,\n",
        "                           kernel_size = (3,3),\n",
        "                           strides = (2,2),\n",
        "                           activation = 'relu',\n",
        "                           padding = 'SAME',\n",
        "                           input_shape = (28, 28, 1)),\n",
        "\n",
        "    tf.keras.layers.MaxPool2D(pool_size = (2, 2),\n",
        "                              strides = (2, 2)),\n",
        "\n",
        "    tf.keras.layers.Conv2D(filters = 32,\n",
        "                           kernel_size = (3,3),\n",
        "                           strides = (1,1),\n",
        "                           activation = 'relu',\n",
        "                           padding = 'SAME',\n",
        "                           input_shape = (7, 7, 64)),\n",
        "\n",
        "    tf.keras.layers.MaxPool2D(pool_size = (2, 2),\n",
        "                              strides = (2, 2)),\n",
        "\n",
        "    tf.keras.layers.Flatten(),\n",
        "\n",
        "    tf.keras.layers.Dense(units = 10, activation = 'softmax')\n",
        "\n",
        "])\n",
        "model_sup.summary()"
      ],
      "metadata": {
        "id": "m0jNGhd4J3LA",
        "colab": {
          "base_uri": "https://localhost:8080/"
        },
        "outputId": "1da27321-9379-4c85-bd33-85d78aa66fca"
      },
      "execution_count": null,
      "outputs": [
        {
          "output_type": "stream",
          "name": "stdout",
          "text": [
            "Model: \"sequential_3\"\n",
            "_________________________________________________________________\n",
            " Layer (type)                Output Shape              Param #   \n",
            "=================================================================\n",
            " conv2d_6 (Conv2D)           (None, 14, 14, 64)        640       \n",
            "                                                                 \n",
            " max_pooling2d_4 (MaxPoolin  (None, 7, 7, 64)          0         \n",
            " g2D)                                                            \n",
            "                                                                 \n",
            " conv2d_7 (Conv2D)           (None, 7, 7, 32)          18464     \n",
            "                                                                 \n",
            " max_pooling2d_5 (MaxPoolin  (None, 3, 3, 32)          0         \n",
            " g2D)                                                            \n",
            "                                                                 \n",
            " flatten_3 (Flatten)         (None, 288)               0         \n",
            "                                                                 \n",
            " dense_3 (Dense)             (None, 10)                2890      \n",
            "                                                                 \n",
            "=================================================================\n",
            "Total params: 21994 (85.91 KB)\n",
            "Trainable params: 21994 (85.91 KB)\n",
            "Non-trainable params: 0 (0.00 Byte)\n",
            "_________________________________________________________________\n"
          ]
        }
      ]
    },
    {
      "cell_type": "code",
      "source": [
        "model_sup.trainable = False\n",
        "model_rand = tf.keras.models.Sequential([\n",
        "    model_sup.get_layer(index = 0),\n",
        "    model_sup.get_layer(index = 1),\n",
        "    model_sup.get_layer(index = 2),\n",
        "    model_sup.get_layer(index = 3),\n",
        "\n",
        "    tf.keras.layers.Flatten(),\n",
        "    tf.keras.layers.Dense(units = 10, activation = 'softmax')\n",
        "])\n",
        "\n",
        "model_rand.summary()"
      ],
      "metadata": {
        "id": "WkmGS5leaoMM",
        "colab": {
          "base_uri": "https://localhost:8080/"
        },
        "outputId": "21111e39-a012-4758-82e7-50f845a66b4d"
      },
      "execution_count": null,
      "outputs": [
        {
          "output_type": "stream",
          "name": "stdout",
          "text": [
            "Model: \"sequential_4\"\n",
            "_________________________________________________________________\n",
            " Layer (type)                Output Shape              Param #   \n",
            "=================================================================\n",
            " conv2d_6 (Conv2D)           (None, 14, 14, 64)        640       \n",
            "                                                                 \n",
            " max_pooling2d_4 (MaxPoolin  (None, 7, 7, 64)          0         \n",
            " g2D)                                                            \n",
            "                                                                 \n",
            " conv2d_7 (Conv2D)           (None, 7, 7, 32)          18464     \n",
            "                                                                 \n",
            " max_pooling2d_5 (MaxPoolin  (None, 3, 3, 32)          0         \n",
            " g2D)                                                            \n",
            "                                                                 \n",
            " flatten_4 (Flatten)         (None, 288)               0         \n",
            "                                                                 \n",
            " dense_4 (Dense)             (None, 10)                2890      \n",
            "                                                                 \n",
            "=================================================================\n",
            "Total params: 21994 (85.91 KB)\n",
            "Trainable params: 2890 (11.29 KB)\n",
            "Non-trainable params: 19104 (74.62 KB)\n",
            "_________________________________________________________________\n"
          ]
        }
      ]
    },
    {
      "cell_type": "code",
      "source": [
        "model_sup.trainable = True\n",
        "model_sup.compile(optimizer = tf.keras.optimizers.SGD(learning_rate = 0.001,momentum = 0.9),\n",
        "                  loss = 'categorical_crossentropy',\n",
        "                  metrics = 'accuracy')\n",
        "model_sup.fit(XX_train,\n",
        "              YY_train,\n",
        "              batch_size = 32,\n",
        "              validation_split = 0.2,\n",
        "              epochs = 50,\n",
        "              verbose = 2)"
      ],
      "metadata": {
        "id": "3x2EOWtqKpSB",
        "colab": {
          "base_uri": "https://localhost:8080/"
        },
        "outputId": "43fc248f-3d1e-43ec-cfff-52d911cd32b7"
      },
      "execution_count": null,
      "outputs": [
        {
          "output_type": "stream",
          "name": "stdout",
          "text": [
            "Epoch 1/50\n",
            "25/25 - 1s - loss: 10.5195 - accuracy: 0.1937 - val_loss: 1.7633 - val_accuracy: 0.4050 - 1s/epoch - 42ms/step\n",
            "Epoch 2/50\n",
            "25/25 - 0s - loss: 1.5934 - accuracy: 0.4512 - val_loss: 1.1413 - val_accuracy: 0.6600 - 121ms/epoch - 5ms/step\n",
            "Epoch 3/50\n",
            "25/25 - 0s - loss: 1.0960 - accuracy: 0.6350 - val_loss: 0.9449 - val_accuracy: 0.7250 - 164ms/epoch - 7ms/step\n",
            "Epoch 4/50\n",
            "25/25 - 0s - loss: 0.7750 - accuracy: 0.7387 - val_loss: 0.6583 - val_accuracy: 0.7800 - 143ms/epoch - 6ms/step\n",
            "Epoch 5/50\n",
            "25/25 - 0s - loss: 0.5872 - accuracy: 0.7937 - val_loss: 0.6733 - val_accuracy: 0.8200 - 134ms/epoch - 5ms/step\n",
            "Epoch 6/50\n",
            "25/25 - 0s - loss: 0.4244 - accuracy: 0.8575 - val_loss: 0.6030 - val_accuracy: 0.8500 - 136ms/epoch - 5ms/step\n",
            "Epoch 7/50\n",
            "25/25 - 0s - loss: 0.3536 - accuracy: 0.8788 - val_loss: 0.8806 - val_accuracy: 0.7850 - 140ms/epoch - 6ms/step\n",
            "Epoch 8/50\n",
            "25/25 - 0s - loss: 0.2918 - accuracy: 0.9100 - val_loss: 0.6338 - val_accuracy: 0.8350 - 216ms/epoch - 9ms/step\n",
            "Epoch 9/50\n",
            "25/25 - 0s - loss: 0.2140 - accuracy: 0.9337 - val_loss: 0.6962 - val_accuracy: 0.8200 - 134ms/epoch - 5ms/step\n",
            "Epoch 10/50\n",
            "25/25 - 0s - loss: 0.2157 - accuracy: 0.9225 - val_loss: 0.6458 - val_accuracy: 0.8400 - 134ms/epoch - 5ms/step\n",
            "Epoch 11/50\n",
            "25/25 - 0s - loss: 0.1567 - accuracy: 0.9425 - val_loss: 0.5525 - val_accuracy: 0.8750 - 134ms/epoch - 5ms/step\n",
            "Epoch 12/50\n",
            "25/25 - 0s - loss: 0.1111 - accuracy: 0.9725 - val_loss: 0.6372 - val_accuracy: 0.8400 - 150ms/epoch - 6ms/step\n",
            "Epoch 13/50\n",
            "25/25 - 0s - loss: 0.0834 - accuracy: 0.9800 - val_loss: 0.5928 - val_accuracy: 0.8800 - 183ms/epoch - 7ms/step\n",
            "Epoch 14/50\n",
            "25/25 - 0s - loss: 0.0794 - accuracy: 0.9800 - val_loss: 0.6283 - val_accuracy: 0.8700 - 197ms/epoch - 8ms/step\n",
            "Epoch 15/50\n",
            "25/25 - 0s - loss: 0.0660 - accuracy: 0.9825 - val_loss: 0.7924 - val_accuracy: 0.7950 - 199ms/epoch - 8ms/step\n",
            "Epoch 16/50\n",
            "25/25 - 0s - loss: 0.0742 - accuracy: 0.9762 - val_loss: 0.7763 - val_accuracy: 0.8300 - 152ms/epoch - 6ms/step\n",
            "Epoch 17/50\n",
            "25/25 - 0s - loss: 0.0457 - accuracy: 0.9862 - val_loss: 0.7428 - val_accuracy: 0.8550 - 127ms/epoch - 5ms/step\n",
            "Epoch 18/50\n",
            "25/25 - 0s - loss: 0.0400 - accuracy: 0.9912 - val_loss: 0.8909 - val_accuracy: 0.8200 - 104ms/epoch - 4ms/step\n",
            "Epoch 19/50\n",
            "25/25 - 0s - loss: 0.0250 - accuracy: 0.9937 - val_loss: 0.6684 - val_accuracy: 0.8650 - 100ms/epoch - 4ms/step\n",
            "Epoch 20/50\n",
            "25/25 - 0s - loss: 0.0213 - accuracy: 0.9975 - val_loss: 0.7242 - val_accuracy: 0.8650 - 105ms/epoch - 4ms/step\n",
            "Epoch 21/50\n",
            "25/25 - 0s - loss: 0.0116 - accuracy: 1.0000 - val_loss: 0.6893 - val_accuracy: 0.8850 - 99ms/epoch - 4ms/step\n",
            "Epoch 22/50\n",
            "25/25 - 0s - loss: 0.0088 - accuracy: 1.0000 - val_loss: 0.6842 - val_accuracy: 0.8750 - 102ms/epoch - 4ms/step\n",
            "Epoch 23/50\n",
            "25/25 - 0s - loss: 0.0078 - accuracy: 1.0000 - val_loss: 0.6930 - val_accuracy: 0.8850 - 108ms/epoch - 4ms/step\n",
            "Epoch 24/50\n",
            "25/25 - 0s - loss: 0.0065 - accuracy: 1.0000 - val_loss: 0.6923 - val_accuracy: 0.8800 - 94ms/epoch - 4ms/step\n",
            "Epoch 25/50\n",
            "25/25 - 0s - loss: 0.0060 - accuracy: 1.0000 - val_loss: 0.7252 - val_accuracy: 0.8800 - 104ms/epoch - 4ms/step\n",
            "Epoch 26/50\n",
            "25/25 - 0s - loss: 0.0054 - accuracy: 1.0000 - val_loss: 0.7074 - val_accuracy: 0.8800 - 101ms/epoch - 4ms/step\n",
            "Epoch 27/50\n",
            "25/25 - 0s - loss: 0.0052 - accuracy: 1.0000 - val_loss: 0.7208 - val_accuracy: 0.8750 - 95ms/epoch - 4ms/step\n",
            "Epoch 28/50\n",
            "25/25 - 0s - loss: 0.0046 - accuracy: 1.0000 - val_loss: 0.7275 - val_accuracy: 0.8700 - 96ms/epoch - 4ms/step\n",
            "Epoch 29/50\n",
            "25/25 - 0s - loss: 0.0044 - accuracy: 1.0000 - val_loss: 0.7273 - val_accuracy: 0.8800 - 97ms/epoch - 4ms/step\n",
            "Epoch 30/50\n",
            "25/25 - 0s - loss: 0.0040 - accuracy: 1.0000 - val_loss: 0.7260 - val_accuracy: 0.8900 - 106ms/epoch - 4ms/step\n",
            "Epoch 31/50\n",
            "25/25 - 0s - loss: 0.0039 - accuracy: 1.0000 - val_loss: 0.7445 - val_accuracy: 0.8750 - 108ms/epoch - 4ms/step\n",
            "Epoch 32/50\n",
            "25/25 - 0s - loss: 0.0036 - accuracy: 1.0000 - val_loss: 0.7454 - val_accuracy: 0.8800 - 101ms/epoch - 4ms/step\n",
            "Epoch 33/50\n",
            "25/25 - 0s - loss: 0.0035 - accuracy: 1.0000 - val_loss: 0.7379 - val_accuracy: 0.8750 - 119ms/epoch - 5ms/step\n",
            "Epoch 34/50\n",
            "25/25 - 0s - loss: 0.0033 - accuracy: 1.0000 - val_loss: 0.7493 - val_accuracy: 0.8800 - 103ms/epoch - 4ms/step\n",
            "Epoch 35/50\n",
            "25/25 - 0s - loss: 0.0031 - accuracy: 1.0000 - val_loss: 0.7491 - val_accuracy: 0.8750 - 100ms/epoch - 4ms/step\n",
            "Epoch 36/50\n",
            "25/25 - 0s - loss: 0.0031 - accuracy: 1.0000 - val_loss: 0.7459 - val_accuracy: 0.8750 - 106ms/epoch - 4ms/step\n",
            "Epoch 37/50\n",
            "25/25 - 0s - loss: 0.0029 - accuracy: 1.0000 - val_loss: 0.7592 - val_accuracy: 0.8800 - 99ms/epoch - 4ms/step\n",
            "Epoch 38/50\n",
            "25/25 - 0s - loss: 0.0027 - accuracy: 1.0000 - val_loss: 0.7600 - val_accuracy: 0.8850 - 118ms/epoch - 5ms/step\n",
            "Epoch 39/50\n",
            "25/25 - 0s - loss: 0.0026 - accuracy: 1.0000 - val_loss: 0.7664 - val_accuracy: 0.8850 - 104ms/epoch - 4ms/step\n",
            "Epoch 40/50\n",
            "25/25 - 0s - loss: 0.0025 - accuracy: 1.0000 - val_loss: 0.7624 - val_accuracy: 0.8750 - 98ms/epoch - 4ms/step\n",
            "Epoch 41/50\n",
            "25/25 - 0s - loss: 0.0024 - accuracy: 1.0000 - val_loss: 0.7652 - val_accuracy: 0.8750 - 96ms/epoch - 4ms/step\n",
            "Epoch 42/50\n",
            "25/25 - 0s - loss: 0.0023 - accuracy: 1.0000 - val_loss: 0.7718 - val_accuracy: 0.8850 - 107ms/epoch - 4ms/step\n",
            "Epoch 43/50\n",
            "25/25 - 0s - loss: 0.0022 - accuracy: 1.0000 - val_loss: 0.7767 - val_accuracy: 0.8750 - 100ms/epoch - 4ms/step\n",
            "Epoch 44/50\n",
            "25/25 - 0s - loss: 0.0021 - accuracy: 1.0000 - val_loss: 0.7794 - val_accuracy: 0.8800 - 99ms/epoch - 4ms/step\n",
            "Epoch 45/50\n",
            "25/25 - 0s - loss: 0.0021 - accuracy: 1.0000 - val_loss: 0.7780 - val_accuracy: 0.8850 - 105ms/epoch - 4ms/step\n",
            "Epoch 46/50\n",
            "25/25 - 0s - loss: 0.0020 - accuracy: 1.0000 - val_loss: 0.7833 - val_accuracy: 0.8800 - 94ms/epoch - 4ms/step\n",
            "Epoch 47/50\n",
            "25/25 - 0s - loss: 0.0019 - accuracy: 1.0000 - val_loss: 0.7829 - val_accuracy: 0.8800 - 97ms/epoch - 4ms/step\n",
            "Epoch 48/50\n",
            "25/25 - 0s - loss: 0.0019 - accuracy: 1.0000 - val_loss: 0.7914 - val_accuracy: 0.8800 - 105ms/epoch - 4ms/step\n",
            "Epoch 49/50\n",
            "25/25 - 0s - loss: 0.0018 - accuracy: 1.0000 - val_loss: 0.7872 - val_accuracy: 0.8850 - 99ms/epoch - 4ms/step\n",
            "Epoch 50/50\n",
            "25/25 - 0s - loss: 0.0018 - accuracy: 1.0000 - val_loss: 0.7974 - val_accuracy: 0.8800 - 103ms/epoch - 4ms/step\n"
          ]
        },
        {
          "output_type": "execute_result",
          "data": {
            "text/plain": [
              "<keras.src.callbacks.History at 0x7effaaeaec50>"
            ]
          },
          "metadata": {},
          "execution_count": 32
        }
      ]
    },
    {
      "cell_type": "code",
      "source": [
        "model_rand.compile(optimizer = tf.keras.optimizers.SGD(learning_rate = 0.001,momentum = 0.9),\n",
        "                  loss = 'categorical_crossentropy',\n",
        "                  metrics = 'accuracy')\n",
        "model_rand.fit(XX_train,\n",
        "              YY_train,\n",
        "              batch_size = 32,\n",
        "              validation_split = 0.2,\n",
        "              epochs = 50,\n",
        "              verbose = 2)"
      ],
      "metadata": {
        "id": "YUAZvy9ka2UH",
        "colab": {
          "base_uri": "https://localhost:8080/"
        },
        "outputId": "f7de8b1e-258a-4e75-af70-0d8630822508"
      },
      "execution_count": null,
      "outputs": [
        {
          "output_type": "stream",
          "name": "stdout",
          "text": [
            "Epoch 1/50\n",
            "25/25 - 1s - loss: 5.7427e-05 - accuracy: 1.0000 - val_loss: 4.4102 - val_accuracy: 0.8800 - 585ms/epoch - 23ms/step\n",
            "Epoch 2/50\n",
            "25/25 - 0s - loss: 4.7053e-06 - accuracy: 1.0000 - val_loss: 4.3888 - val_accuracy: 0.8850 - 85ms/epoch - 3ms/step\n",
            "Epoch 3/50\n",
            "25/25 - 0s - loss: 2.2234e-06 - accuracy: 1.0000 - val_loss: 4.3867 - val_accuracy: 0.8850 - 98ms/epoch - 4ms/step\n",
            "Epoch 4/50\n",
            "25/25 - 0s - loss: 1.8386e-06 - accuracy: 1.0000 - val_loss: 4.3858 - val_accuracy: 0.8850 - 90ms/epoch - 4ms/step\n",
            "Epoch 5/50\n",
            "25/25 - 0s - loss: 1.5934e-06 - accuracy: 1.0000 - val_loss: 4.3850 - val_accuracy: 0.8850 - 90ms/epoch - 4ms/step\n",
            "Epoch 6/50\n",
            "25/25 - 0s - loss: 1.4398e-06 - accuracy: 1.0000 - val_loss: 4.3841 - val_accuracy: 0.8850 - 84ms/epoch - 3ms/step\n",
            "Epoch 7/50\n",
            "25/25 - 0s - loss: 1.2462e-06 - accuracy: 1.0000 - val_loss: 4.3836 - val_accuracy: 0.8850 - 98ms/epoch - 4ms/step\n",
            "Epoch 8/50\n",
            "25/25 - 0s - loss: 1.1299e-06 - accuracy: 1.0000 - val_loss: 4.3832 - val_accuracy: 0.8850 - 82ms/epoch - 3ms/step\n",
            "Epoch 9/50\n",
            "25/25 - 0s - loss: 1.0421e-06 - accuracy: 1.0000 - val_loss: 4.3827 - val_accuracy: 0.8850 - 82ms/epoch - 3ms/step\n",
            "Epoch 10/50\n",
            "25/25 - 0s - loss: 9.6840e-07 - accuracy: 1.0000 - val_loss: 4.3821 - val_accuracy: 0.8850 - 93ms/epoch - 4ms/step\n",
            "Epoch 11/50\n",
            "25/25 - 0s - loss: 9.0718e-07 - accuracy: 1.0000 - val_loss: 4.3816 - val_accuracy: 0.8850 - 89ms/epoch - 4ms/step\n",
            "Epoch 12/50\n",
            "25/25 - 0s - loss: 8.3956e-07 - accuracy: 1.0000 - val_loss: 4.3814 - val_accuracy: 0.8850 - 85ms/epoch - 3ms/step\n",
            "Epoch 13/50\n",
            "25/25 - 0s - loss: 8.0083e-07 - accuracy: 1.0000 - val_loss: 4.3809 - val_accuracy: 0.8850 - 85ms/epoch - 3ms/step\n",
            "Epoch 14/50\n",
            "25/25 - 0s - loss: 7.4854e-07 - accuracy: 1.0000 - val_loss: 4.3806 - val_accuracy: 0.8850 - 88ms/epoch - 4ms/step\n",
            "Epoch 15/50\n",
            "25/25 - 0s - loss: 7.1979e-07 - accuracy: 1.0000 - val_loss: 4.3803 - val_accuracy: 0.8850 - 86ms/epoch - 3ms/step\n",
            "Epoch 16/50\n",
            "25/25 - 0s - loss: 6.7867e-07 - accuracy: 1.0000 - val_loss: 4.3800 - val_accuracy: 0.8850 - 84ms/epoch - 3ms/step\n",
            "Epoch 17/50\n",
            "25/25 - 0s - loss: 6.4992e-07 - accuracy: 1.0000 - val_loss: 4.3798 - val_accuracy: 0.8850 - 149ms/epoch - 6ms/step\n",
            "Epoch 18/50\n",
            "25/25 - 0s - loss: 6.2445e-07 - accuracy: 1.0000 - val_loss: 4.3794 - val_accuracy: 0.8850 - 159ms/epoch - 6ms/step\n",
            "Epoch 19/50\n",
            "25/25 - 0s - loss: 6.0254e-07 - accuracy: 1.0000 - val_loss: 4.3792 - val_accuracy: 0.8850 - 123ms/epoch - 5ms/step\n",
            "Epoch 20/50\n",
            "25/25 - 0s - loss: 5.7469e-07 - accuracy: 1.0000 - val_loss: 4.3789 - val_accuracy: 0.8850 - 175ms/epoch - 7ms/step\n",
            "Epoch 21/50\n",
            "25/25 - 0s - loss: 5.5830e-07 - accuracy: 1.0000 - val_loss: 4.3786 - val_accuracy: 0.8850 - 116ms/epoch - 5ms/step\n",
            "Epoch 22/50\n",
            "25/25 - 0s - loss: 5.3580e-07 - accuracy: 1.0000 - val_loss: 4.3784 - val_accuracy: 0.8850 - 152ms/epoch - 6ms/step\n",
            "Epoch 23/50\n",
            "25/25 - 0s - loss: 5.1852e-07 - accuracy: 1.0000 - val_loss: 4.3782 - val_accuracy: 0.8850 - 162ms/epoch - 6ms/step\n",
            "Epoch 24/50\n",
            "25/25 - 0s - loss: 5.0124e-07 - accuracy: 1.0000 - val_loss: 4.3780 - val_accuracy: 0.8850 - 163ms/epoch - 7ms/step\n",
            "Epoch 25/50\n",
            "25/25 - 0s - loss: 4.8947e-07 - accuracy: 1.0000 - val_loss: 4.3778 - val_accuracy: 0.8850 - 171ms/epoch - 7ms/step\n",
            "Epoch 26/50\n",
            "25/25 - 0s - loss: 4.7382e-07 - accuracy: 1.0000 - val_loss: 4.3776 - val_accuracy: 0.8850 - 121ms/epoch - 5ms/step\n",
            "Epoch 27/50\n",
            "25/25 - 0s - loss: 4.6041e-07 - accuracy: 1.0000 - val_loss: 4.3774 - val_accuracy: 0.8850 - 171ms/epoch - 7ms/step\n",
            "Epoch 28/50\n",
            "25/25 - 0s - loss: 4.4730e-07 - accuracy: 1.0000 - val_loss: 4.3772 - val_accuracy: 0.8850 - 130ms/epoch - 5ms/step\n",
            "Epoch 29/50\n",
            "25/25 - 0s - loss: 4.3613e-07 - accuracy: 1.0000 - val_loss: 4.3770 - val_accuracy: 0.8850 - 156ms/epoch - 6ms/step\n",
            "Epoch 30/50\n",
            "25/25 - 0s - loss: 4.2704e-07 - accuracy: 1.0000 - val_loss: 4.3768 - val_accuracy: 0.8850 - 169ms/epoch - 7ms/step\n",
            "Epoch 31/50\n",
            "25/25 - 0s - loss: 4.1467e-07 - accuracy: 1.0000 - val_loss: 4.3767 - val_accuracy: 0.8850 - 168ms/epoch - 7ms/step\n",
            "Epoch 32/50\n",
            "25/25 - 0s - loss: 4.0559e-07 - accuracy: 1.0000 - val_loss: 4.3765 - val_accuracy: 0.8850 - 89ms/epoch - 4ms/step\n",
            "Epoch 33/50\n",
            "25/25 - 0s - loss: 3.9858e-07 - accuracy: 1.0000 - val_loss: 4.3763 - val_accuracy: 0.8850 - 83ms/epoch - 3ms/step\n",
            "Epoch 34/50\n",
            "25/25 - 0s - loss: 3.8741e-07 - accuracy: 1.0000 - val_loss: 4.3761 - val_accuracy: 0.8850 - 86ms/epoch - 3ms/step\n",
            "Epoch 35/50\n",
            "25/25 - 0s - loss: 3.8011e-07 - accuracy: 1.0000 - val_loss: 4.3760 - val_accuracy: 0.8850 - 81ms/epoch - 3ms/step\n",
            "Epoch 36/50\n",
            "25/25 - 0s - loss: 3.7013e-07 - accuracy: 1.0000 - val_loss: 4.3759 - val_accuracy: 0.8850 - 97ms/epoch - 4ms/step\n",
            "Epoch 37/50\n",
            "25/25 - 0s - loss: 3.6342e-07 - accuracy: 1.0000 - val_loss: 4.3757 - val_accuracy: 0.8850 - 83ms/epoch - 3ms/step\n",
            "Epoch 38/50\n",
            "25/25 - 0s - loss: 3.5597e-07 - accuracy: 1.0000 - val_loss: 4.3756 - val_accuracy: 0.8850 - 89ms/epoch - 4ms/step\n",
            "Epoch 39/50\n",
            "25/25 - 0s - loss: 3.4956e-07 - accuracy: 1.0000 - val_loss: 4.3754 - val_accuracy: 0.8850 - 81ms/epoch - 3ms/step\n",
            "Epoch 40/50\n",
            "25/25 - 0s - loss: 3.4286e-07 - accuracy: 1.0000 - val_loss: 4.3753 - val_accuracy: 0.8850 - 89ms/epoch - 4ms/step\n",
            "Epoch 41/50\n",
            "25/25 - 0s - loss: 3.3750e-07 - accuracy: 1.0000 - val_loss: 4.3751 - val_accuracy: 0.8850 - 84ms/epoch - 3ms/step\n",
            "Epoch 42/50\n",
            "25/25 - 0s - loss: 3.3079e-07 - accuracy: 1.0000 - val_loss: 4.3750 - val_accuracy: 0.8850 - 96ms/epoch - 4ms/step\n",
            "Epoch 43/50\n",
            "25/25 - 0s - loss: 3.2424e-07 - accuracy: 1.0000 - val_loss: 4.3749 - val_accuracy: 0.8850 - 87ms/epoch - 3ms/step\n",
            "Epoch 44/50\n",
            "25/25 - 0s - loss: 3.1917e-07 - accuracy: 1.0000 - val_loss: 4.3748 - val_accuracy: 0.8850 - 91ms/epoch - 4ms/step\n",
            "Epoch 45/50\n",
            "25/25 - 0s - loss: 3.1619e-07 - accuracy: 1.0000 - val_loss: 4.3746 - val_accuracy: 0.8850 - 89ms/epoch - 4ms/step\n",
            "Epoch 46/50\n",
            "25/25 - 0s - loss: 3.0874e-07 - accuracy: 1.0000 - val_loss: 4.3745 - val_accuracy: 0.8850 - 88ms/epoch - 4ms/step\n",
            "Epoch 47/50\n",
            "25/25 - 0s - loss: 3.0442e-07 - accuracy: 1.0000 - val_loss: 4.3744 - val_accuracy: 0.8850 - 92ms/epoch - 4ms/step\n",
            "Epoch 48/50\n",
            "25/25 - 0s - loss: 2.9905e-07 - accuracy: 1.0000 - val_loss: 4.3742 - val_accuracy: 0.8850 - 81ms/epoch - 3ms/step\n",
            "Epoch 49/50\n",
            "25/25 - 0s - loss: 2.9503e-07 - accuracy: 1.0000 - val_loss: 4.3741 - val_accuracy: 0.8850 - 88ms/epoch - 4ms/step\n",
            "Epoch 50/50\n",
            "25/25 - 0s - loss: 2.8982e-07 - accuracy: 1.0000 - val_loss: 4.3740 - val_accuracy: 0.8850 - 91ms/epoch - 4ms/step\n"
          ]
        },
        {
          "output_type": "execute_result",
          "data": {
            "text/plain": [
              "<keras.src.callbacks.History at 0x7eff28a40af0>"
            ]
          },
          "metadata": {},
          "execution_count": 28
        }
      ]
    },
    {
      "cell_type": "markdown",
      "source": [
        "## Compare Self-supervised Learning and Supervised Learning\n",
        "\n",
        "### Pretext Task\n",
        "Input data: 10,000 MNIST images without labels\n",
        "\n",
        "### Downstream Task and Supervised Learning (for performance comparison)\n",
        "\n",
        "Training data: 1,000 MNIST images with labels\n",
        "Test data: 300 MNIST images with labels\n",
        "\n",
        "### Key concepts\n",
        "For transfer learning, we used to train networks like VGG 16 with large image dataset with labels such as ImageNet\n",
        "\n",
        "With self-supervised learning, we train such networks with unlabeled image datasets which have larger number of data than labeled image datasets have and perform transfer learning\n",
        "\n",
        "Comparing downstream task performance with that of supervised learning is equal to comparing the performance of (self-supervised) transfer learning and supervised learning performance"
      ],
      "metadata": {
        "id": "1BTgXUkq4Nfo"
      }
    },
    {
      "cell_type": "code",
      "source": [
        "test_self = model_rand.evaluate(XX_test,YY_test,batch_size = 64,verbose = 2)\n",
        "\n",
        "print(\"\")\n",
        "print('Self-supervised Learning Accuracy on Test Data:  {:.2f}%'.format(test_self[1]*100))"
      ],
      "metadata": {
        "id": "G9v97Ahha91d",
        "colab": {
          "base_uri": "https://localhost:8080/"
        },
        "outputId": "e22849a0-558a-45a0-984c-158ae04d5f7e"
      },
      "execution_count": null,
      "outputs": [
        {
          "output_type": "stream",
          "name": "stdout",
          "text": [
            "5/5 - 0s - loss: 4.3968 - accuracy: 0.8400 - 122ms/epoch - 24ms/step\n",
            "\n",
            "Self-supervised Learning Accuracy on Test Data:  84.00%\n"
          ]
        }
      ]
    },
    {
      "cell_type": "code",
      "source": [
        "test_self = model_downstream.evaluate(XX_test,YY_test,batch_size = 64,verbose = 2)\n",
        "\n",
        "print(\"\")\n",
        "print('Self-supervised Learning Accuracy on Test Data:  {:.2f}%'.format(test_self[1]*100))"
      ],
      "metadata": {
        "id": "ofkZuBth4Z2n",
        "colab": {
          "base_uri": "https://localhost:8080/"
        },
        "outputId": "aefb3eb9-8a19-4787-ee60-1bec3c8c65d9"
      },
      "execution_count": null,
      "outputs": [
        {
          "output_type": "stream",
          "name": "stdout",
          "text": [
            "5/5 - 0s - loss: 9.4003 - accuracy: 0.8667 - 28ms/epoch - 6ms/step\n",
            "\n",
            "Self-supervised Learning Accuracy on Test Data:  86.67%\n"
          ]
        }
      ]
    },
    {
      "cell_type": "code",
      "source": [
        "test_sup = model_sup.evaluate(XX_test,YY_test,batch_size = 64, verbose = 2)\n",
        "\n",
        "print(\"\")\n",
        "print('Supervised Learning Accuracy on Test Data:  {:.2f}%'.format(test_sup[1]*100))"
      ],
      "metadata": {
        "id": "5bjSNXS-4bvw",
        "colab": {
          "base_uri": "https://localhost:8080/"
        },
        "outputId": "f25c3539-092d-42c2-c82e-39ba986608e7"
      },
      "execution_count": null,
      "outputs": [
        {
          "output_type": "stream",
          "name": "stdout",
          "text": [
            "5/5 - 0s - loss: 1.2504 - accuracy: 0.8033 - 29ms/epoch - 6ms/step\n",
            "\n",
            "Supervised Learning Accuracy on Test Data:  80.33%\n"
          ]
        }
      ]
    }
  ],
  "metadata": {
    "colab": {
      "provenance": [],
      "toc_visible": true
    },
    "kernelspec": {
      "display_name": "Python 3",
      "name": "python3"
    },
    "language_info": {
      "name": "python"
    },
    "accelerator": "GPU"
  },
  "nbformat": 4,
  "nbformat_minor": 0
}